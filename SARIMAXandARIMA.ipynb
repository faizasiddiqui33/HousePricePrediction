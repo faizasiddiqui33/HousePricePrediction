{
  "nbformat": 4,
  "nbformat_minor": 0,
  "metadata": {
    "colab": {
      "provenance": []
    },
    "kernelspec": {
      "name": "python3",
      "display_name": "Python 3"
    },
    "language_info": {
      "name": "python"
    }
  },
  "cells": [
    {
      "cell_type": "markdown",
      "source": [
        "Name: Faiza Siddiqui\n",
        "\n",
        "Student ID: 200473896\n",
        "\n",
        "Subject: CS715 - Advanced Data Science and Machine Learning Final Exam - Part 1"
      ],
      "metadata": {
        "id": "RmosGXL8wECy"
      }
    },
    {
      "cell_type": "markdown",
      "source": [
        "### SARIMAX AND ARIMA"
      ],
      "metadata": {
        "id": "PXQP7dTewFRK"
      }
    },
    {
      "cell_type": "code",
      "source": [
        "# imported requires libraries and packages \n",
        "\n",
        "import pandas as pd\n",
        "from pandas import datetime\n",
        "\n",
        "from statsmodels.graphics.tsaplots import plot_acf\n",
        "from statsmodels.graphics.tsaplots import plot_pacf\n",
        "from statsmodels.tsa.arima_process import ArmaProcess\n",
        "from statsmodels.tsa.arima.model import ARIMA\n",
        "from statsmodels.tsa.stattools import acf\n",
        "\n",
        "import matplotlib.pyplot as plt\n",
        "from matplotlib.dates import DateFormatter\n",
        "import matplotlib.dates as mdates\n",
        "\n",
        "from sklearn.metrics import mean_squared_error\n",
        "from math import sqrt\n",
        "\n",
        "# Set the default figure style\n",
        "plt.style.use('./d4sci.mplstyle')\n",
        "\n",
        "%matplotlib inline"
      ],
      "metadata": {
        "colab": {
          "base_uri": "https://localhost:8080/"
        },
        "id": "vPos1wU9AJF7",
        "outputId": "421dd9b4-57ca-4b92-9f03-8bd575949fea"
      },
      "execution_count": 1,
      "outputs": [
        {
          "output_type": "stream",
          "name": "stderr",
          "text": [
            "<ipython-input-1-a2f28d3f14be>:4: FutureWarning: The pandas.datetime class is deprecated and will be removed from pandas in a future version. Import from datetime module instead.\n",
            "  from pandas import datetime\n"
          ]
        }
      ]
    },
    {
      "cell_type": "code",
      "source": [
        "df = pd.read_csv('/content/FinalMergedDatasets2.csv', index_col='Date')\n",
        "df.index = pd.to_datetime(df.index)\n",
        "df"
      ],
      "metadata": {
        "colab": {
          "base_uri": "https://localhost:8080/",
          "height": 744
        },
        "id": "Btabyk-KLkOI",
        "outputId": "8dded5b0-d076-495a-ff34-bab2e92d5e66"
      },
      "execution_count": 16,
      "outputs": [
        {
          "output_type": "execute_result",
          "data": {
            "text/plain": [
              "            Composite_HPI_SA  Single_Family_HPI_SA  One_Storey_HPI_SA  \\\n",
              "Date                                                                    \n",
              "2005-01-01             100.0                 100.0              100.0   \n",
              "2005-01-02             100.6                 100.6              100.4   \n",
              "2005-01-03             101.4                 101.4              101.0   \n",
              "2005-01-04             102.2                 102.3              101.8   \n",
              "2005-01-05             102.8                 103.0              102.4   \n",
              "...                      ...                   ...                ...   \n",
              "2022-01-05             370.3                 386.0              360.0   \n",
              "2022-01-06             363.3                 377.9              350.4   \n",
              "2022-01-07             356.8                 370.0              343.3   \n",
              "2022-01-08             350.8                 363.4              336.8   \n",
              "2022-01-09             345.7                 358.1              331.7   \n",
              "\n",
              "            Two_Storey_HPI_SA  Townhouse_HPI_SA  Apartment_HPI_SA  \\\n",
              "Date                                                                \n",
              "2005-01-01              100.0             100.0             100.0   \n",
              "2005-01-02              100.7             100.3             101.1   \n",
              "2005-01-03              101.4             100.6             101.7   \n",
              "2005-01-04              102.2             100.8             102.3   \n",
              "2005-01-05              103.0             101.0             102.8   \n",
              "...                       ...               ...               ...   \n",
              "2022-01-05              383.6             363.5             337.2   \n",
              "2022-01-06              376.2             358.0             333.8   \n",
              "2022-01-07              368.6             353.6             331.7   \n",
              "2022-01-08              362.4             346.9             328.4   \n",
              "2022-01-09              357.6             343.4             324.3   \n",
              "\n",
              "            Composite_Benchmark_SA  Single_Family_Benchmark_SA  \\\n",
              "Date                                                             \n",
              "2005-01-01                  221200                      234700   \n",
              "2005-01-02                  222600                      236200   \n",
              "2005-01-03                  224300                      237900   \n",
              "2005-01-04                  226000                      240000   \n",
              "2005-01-05                  227500                      241800   \n",
              "...                            ...                         ...   \n",
              "2022-01-05                  819200                      905900   \n",
              "2022-01-06                  803700                      887000   \n",
              "2022-01-07                  789300                      868500   \n",
              "2022-01-08                  775900                      853000   \n",
              "2022-01-09                  764700                      840400   \n",
              "\n",
              "            One_Storey_Benchmark_SA  Two_Storey_Benchmark_SA  ...  \\\n",
              "Date                                                          ...   \n",
              "2005-01-01                   194200                   273800  ...   \n",
              "2005-01-02                   195000                   275600  ...   \n",
              "2005-01-03                   196200                   277700  ...   \n",
              "2005-01-04                   197600                   279800  ...   \n",
              "2005-01-05                   198800                   282000  ...   \n",
              "...                             ...                      ...  ...   \n",
              "2022-01-05                   699200                  1050200  ...   \n",
              "2022-01-06                   680400                  1030000  ...   \n",
              "2022-01-07                   666600                  1009300  ...   \n",
              "2022-01-08                   654100                   992300  ...   \n",
              "2022-01-09                   644100                   979200  ...   \n",
              "\n",
              "            STATIC_CPIXFET  CPIW          Open          High           Low  \\\n",
              "Date                                                                         \n",
              "2005-01-01             1.1   1.6   9190.099609   9246.799805   8952.799805   \n",
              "2005-01-02             1.4   1.7   9211.500000   9774.599609   9204.099609   \n",
              "2005-01-03             1.5   1.9   9701.200195   9968.400391   9390.500000   \n",
              "2005-01-04             1.1   1.8   9675.299805   9701.400391   9243.700195   \n",
              "2005-01-05             1.2   1.6   9349.099609   9679.900391   9261.500000   \n",
              "...                    ...   ...           ...           ...           ...   \n",
              "2022-01-05             5.2   6.3  20707.699220  21212.900390  19480.000000   \n",
              "2022-01-06             5.3   6.4  20816.699220  21036.400390  18661.500000   \n",
              "2022-01-07             5.5   6.2  18951.199220  19734.000000  18169.900390   \n",
              "2022-01-08             5.3   6.0  19568.900390  20323.599610  19329.900390   \n",
              "2022-01-09             5.4   6.0  19179.500000  20032.599610  18982.000000   \n",
              "\n",
              "                   Close     Adj Close      Volume  Prime Rate  \\\n",
              "Date                                                             \n",
              "2005-01-01   9204.099609   9204.099609  2335454800        4.25   \n",
              "2005-01-02   9668.299805   9668.299805  2446392600        4.25   \n",
              "2005-01-03   9612.400391   9612.400391  2955365700        4.25   \n",
              "2005-01-04   9369.299805   9369.299805  2377228200        4.25   \n",
              "2005-01-05   9607.299805   9607.299805  2304422000        4.25   \n",
              "...                  ...           ...         ...         ...   \n",
              "2022-01-05  20729.300780  20729.300780  6123813800        3.20   \n",
              "2022-01-06  18861.400390  18861.400390  6198477400        3.70   \n",
              "2022-01-07  19692.900390  19692.900390  4716787900        4.70   \n",
              "2022-01-08  19330.800780  19330.800780  5300428700        4.70   \n",
              "2022-01-09  19987.199220  19987.199220  1697976300        5.45   \n",
              "\n",
              "            Bank of Canada Overnight Rate  \n",
              "Date                                       \n",
              "2005-01-01                           2.50  \n",
              "2005-01-02                           2.50  \n",
              "2005-01-03                           2.50  \n",
              "2005-01-04                           2.50  \n",
              "2005-01-05                           2.50  \n",
              "...                                   ...  \n",
              "2022-01-05                           1.00  \n",
              "2022-01-06                           1.50  \n",
              "2022-01-07                           2.50  \n",
              "2022-01-08                           2.50  \n",
              "2022-01-09                           3.25  \n",
              "\n",
              "[213 rows x 29 columns]"
            ],
            "text/html": [
              "\n",
              "  <div id=\"df-541fbd7f-bbd7-4b2f-8e5e-7a7751340aec\">\n",
              "    <div class=\"colab-df-container\">\n",
              "      <div>\n",
              "<style scoped>\n",
              "    .dataframe tbody tr th:only-of-type {\n",
              "        vertical-align: middle;\n",
              "    }\n",
              "\n",
              "    .dataframe tbody tr th {\n",
              "        vertical-align: top;\n",
              "    }\n",
              "\n",
              "    .dataframe thead th {\n",
              "        text-align: right;\n",
              "    }\n",
              "</style>\n",
              "<table border=\"1\" class=\"dataframe\">\n",
              "  <thead>\n",
              "    <tr style=\"text-align: right;\">\n",
              "      <th></th>\n",
              "      <th>Composite_HPI_SA</th>\n",
              "      <th>Single_Family_HPI_SA</th>\n",
              "      <th>One_Storey_HPI_SA</th>\n",
              "      <th>Two_Storey_HPI_SA</th>\n",
              "      <th>Townhouse_HPI_SA</th>\n",
              "      <th>Apartment_HPI_SA</th>\n",
              "      <th>Composite_Benchmark_SA</th>\n",
              "      <th>Single_Family_Benchmark_SA</th>\n",
              "      <th>One_Storey_Benchmark_SA</th>\n",
              "      <th>Two_Storey_Benchmark_SA</th>\n",
              "      <th>...</th>\n",
              "      <th>STATIC_CPIXFET</th>\n",
              "      <th>CPIW</th>\n",
              "      <th>Open</th>\n",
              "      <th>High</th>\n",
              "      <th>Low</th>\n",
              "      <th>Close</th>\n",
              "      <th>Adj Close</th>\n",
              "      <th>Volume</th>\n",
              "      <th>Prime Rate</th>\n",
              "      <th>Bank of Canada Overnight Rate</th>\n",
              "    </tr>\n",
              "    <tr>\n",
              "      <th>Date</th>\n",
              "      <th></th>\n",
              "      <th></th>\n",
              "      <th></th>\n",
              "      <th></th>\n",
              "      <th></th>\n",
              "      <th></th>\n",
              "      <th></th>\n",
              "      <th></th>\n",
              "      <th></th>\n",
              "      <th></th>\n",
              "      <th></th>\n",
              "      <th></th>\n",
              "      <th></th>\n",
              "      <th></th>\n",
              "      <th></th>\n",
              "      <th></th>\n",
              "      <th></th>\n",
              "      <th></th>\n",
              "      <th></th>\n",
              "      <th></th>\n",
              "      <th></th>\n",
              "    </tr>\n",
              "  </thead>\n",
              "  <tbody>\n",
              "    <tr>\n",
              "      <th>2005-01-01</th>\n",
              "      <td>100.0</td>\n",
              "      <td>100.0</td>\n",
              "      <td>100.0</td>\n",
              "      <td>100.0</td>\n",
              "      <td>100.0</td>\n",
              "      <td>100.0</td>\n",
              "      <td>221200</td>\n",
              "      <td>234700</td>\n",
              "      <td>194200</td>\n",
              "      <td>273800</td>\n",
              "      <td>...</td>\n",
              "      <td>1.1</td>\n",
              "      <td>1.6</td>\n",
              "      <td>9190.099609</td>\n",
              "      <td>9246.799805</td>\n",
              "      <td>8952.799805</td>\n",
              "      <td>9204.099609</td>\n",
              "      <td>9204.099609</td>\n",
              "      <td>2335454800</td>\n",
              "      <td>4.25</td>\n",
              "      <td>2.50</td>\n",
              "    </tr>\n",
              "    <tr>\n",
              "      <th>2005-01-02</th>\n",
              "      <td>100.6</td>\n",
              "      <td>100.6</td>\n",
              "      <td>100.4</td>\n",
              "      <td>100.7</td>\n",
              "      <td>100.3</td>\n",
              "      <td>101.1</td>\n",
              "      <td>222600</td>\n",
              "      <td>236200</td>\n",
              "      <td>195000</td>\n",
              "      <td>275600</td>\n",
              "      <td>...</td>\n",
              "      <td>1.4</td>\n",
              "      <td>1.7</td>\n",
              "      <td>9211.500000</td>\n",
              "      <td>9774.599609</td>\n",
              "      <td>9204.099609</td>\n",
              "      <td>9668.299805</td>\n",
              "      <td>9668.299805</td>\n",
              "      <td>2446392600</td>\n",
              "      <td>4.25</td>\n",
              "      <td>2.50</td>\n",
              "    </tr>\n",
              "    <tr>\n",
              "      <th>2005-01-03</th>\n",
              "      <td>101.4</td>\n",
              "      <td>101.4</td>\n",
              "      <td>101.0</td>\n",
              "      <td>101.4</td>\n",
              "      <td>100.6</td>\n",
              "      <td>101.7</td>\n",
              "      <td>224300</td>\n",
              "      <td>237900</td>\n",
              "      <td>196200</td>\n",
              "      <td>277700</td>\n",
              "      <td>...</td>\n",
              "      <td>1.5</td>\n",
              "      <td>1.9</td>\n",
              "      <td>9701.200195</td>\n",
              "      <td>9968.400391</td>\n",
              "      <td>9390.500000</td>\n",
              "      <td>9612.400391</td>\n",
              "      <td>9612.400391</td>\n",
              "      <td>2955365700</td>\n",
              "      <td>4.25</td>\n",
              "      <td>2.50</td>\n",
              "    </tr>\n",
              "    <tr>\n",
              "      <th>2005-01-04</th>\n",
              "      <td>102.2</td>\n",
              "      <td>102.3</td>\n",
              "      <td>101.8</td>\n",
              "      <td>102.2</td>\n",
              "      <td>100.8</td>\n",
              "      <td>102.3</td>\n",
              "      <td>226000</td>\n",
              "      <td>240000</td>\n",
              "      <td>197600</td>\n",
              "      <td>279800</td>\n",
              "      <td>...</td>\n",
              "      <td>1.1</td>\n",
              "      <td>1.8</td>\n",
              "      <td>9675.299805</td>\n",
              "      <td>9701.400391</td>\n",
              "      <td>9243.700195</td>\n",
              "      <td>9369.299805</td>\n",
              "      <td>9369.299805</td>\n",
              "      <td>2377228200</td>\n",
              "      <td>4.25</td>\n",
              "      <td>2.50</td>\n",
              "    </tr>\n",
              "    <tr>\n",
              "      <th>2005-01-05</th>\n",
              "      <td>102.8</td>\n",
              "      <td>103.0</td>\n",
              "      <td>102.4</td>\n",
              "      <td>103.0</td>\n",
              "      <td>101.0</td>\n",
              "      <td>102.8</td>\n",
              "      <td>227500</td>\n",
              "      <td>241800</td>\n",
              "      <td>198800</td>\n",
              "      <td>282000</td>\n",
              "      <td>...</td>\n",
              "      <td>1.2</td>\n",
              "      <td>1.6</td>\n",
              "      <td>9349.099609</td>\n",
              "      <td>9679.900391</td>\n",
              "      <td>9261.500000</td>\n",
              "      <td>9607.299805</td>\n",
              "      <td>9607.299805</td>\n",
              "      <td>2304422000</td>\n",
              "      <td>4.25</td>\n",
              "      <td>2.50</td>\n",
              "    </tr>\n",
              "    <tr>\n",
              "      <th>...</th>\n",
              "      <td>...</td>\n",
              "      <td>...</td>\n",
              "      <td>...</td>\n",
              "      <td>...</td>\n",
              "      <td>...</td>\n",
              "      <td>...</td>\n",
              "      <td>...</td>\n",
              "      <td>...</td>\n",
              "      <td>...</td>\n",
              "      <td>...</td>\n",
              "      <td>...</td>\n",
              "      <td>...</td>\n",
              "      <td>...</td>\n",
              "      <td>...</td>\n",
              "      <td>...</td>\n",
              "      <td>...</td>\n",
              "      <td>...</td>\n",
              "      <td>...</td>\n",
              "      <td>...</td>\n",
              "      <td>...</td>\n",
              "      <td>...</td>\n",
              "    </tr>\n",
              "    <tr>\n",
              "      <th>2022-01-05</th>\n",
              "      <td>370.3</td>\n",
              "      <td>386.0</td>\n",
              "      <td>360.0</td>\n",
              "      <td>383.6</td>\n",
              "      <td>363.5</td>\n",
              "      <td>337.2</td>\n",
              "      <td>819200</td>\n",
              "      <td>905900</td>\n",
              "      <td>699200</td>\n",
              "      <td>1050200</td>\n",
              "      <td>...</td>\n",
              "      <td>5.2</td>\n",
              "      <td>6.3</td>\n",
              "      <td>20707.699220</td>\n",
              "      <td>21212.900390</td>\n",
              "      <td>19480.000000</td>\n",
              "      <td>20729.300780</td>\n",
              "      <td>20729.300780</td>\n",
              "      <td>6123813800</td>\n",
              "      <td>3.20</td>\n",
              "      <td>1.00</td>\n",
              "    </tr>\n",
              "    <tr>\n",
              "      <th>2022-01-06</th>\n",
              "      <td>363.3</td>\n",
              "      <td>377.9</td>\n",
              "      <td>350.4</td>\n",
              "      <td>376.2</td>\n",
              "      <td>358.0</td>\n",
              "      <td>333.8</td>\n",
              "      <td>803700</td>\n",
              "      <td>887000</td>\n",
              "      <td>680400</td>\n",
              "      <td>1030000</td>\n",
              "      <td>...</td>\n",
              "      <td>5.3</td>\n",
              "      <td>6.4</td>\n",
              "      <td>20816.699220</td>\n",
              "      <td>21036.400390</td>\n",
              "      <td>18661.500000</td>\n",
              "      <td>18861.400390</td>\n",
              "      <td>18861.400390</td>\n",
              "      <td>6198477400</td>\n",
              "      <td>3.70</td>\n",
              "      <td>1.50</td>\n",
              "    </tr>\n",
              "    <tr>\n",
              "      <th>2022-01-07</th>\n",
              "      <td>356.8</td>\n",
              "      <td>370.0</td>\n",
              "      <td>343.3</td>\n",
              "      <td>368.6</td>\n",
              "      <td>353.6</td>\n",
              "      <td>331.7</td>\n",
              "      <td>789300</td>\n",
              "      <td>868500</td>\n",
              "      <td>666600</td>\n",
              "      <td>1009300</td>\n",
              "      <td>...</td>\n",
              "      <td>5.5</td>\n",
              "      <td>6.2</td>\n",
              "      <td>18951.199220</td>\n",
              "      <td>19734.000000</td>\n",
              "      <td>18169.900390</td>\n",
              "      <td>19692.900390</td>\n",
              "      <td>19692.900390</td>\n",
              "      <td>4716787900</td>\n",
              "      <td>4.70</td>\n",
              "      <td>2.50</td>\n",
              "    </tr>\n",
              "    <tr>\n",
              "      <th>2022-01-08</th>\n",
              "      <td>350.8</td>\n",
              "      <td>363.4</td>\n",
              "      <td>336.8</td>\n",
              "      <td>362.4</td>\n",
              "      <td>346.9</td>\n",
              "      <td>328.4</td>\n",
              "      <td>775900</td>\n",
              "      <td>853000</td>\n",
              "      <td>654100</td>\n",
              "      <td>992300</td>\n",
              "      <td>...</td>\n",
              "      <td>5.3</td>\n",
              "      <td>6.0</td>\n",
              "      <td>19568.900390</td>\n",
              "      <td>20323.599610</td>\n",
              "      <td>19329.900390</td>\n",
              "      <td>19330.800780</td>\n",
              "      <td>19330.800780</td>\n",
              "      <td>5300428700</td>\n",
              "      <td>4.70</td>\n",
              "      <td>2.50</td>\n",
              "    </tr>\n",
              "    <tr>\n",
              "      <th>2022-01-09</th>\n",
              "      <td>345.7</td>\n",
              "      <td>358.1</td>\n",
              "      <td>331.7</td>\n",
              "      <td>357.6</td>\n",
              "      <td>343.4</td>\n",
              "      <td>324.3</td>\n",
              "      <td>764700</td>\n",
              "      <td>840400</td>\n",
              "      <td>644100</td>\n",
              "      <td>979200</td>\n",
              "      <td>...</td>\n",
              "      <td>5.4</td>\n",
              "      <td>6.0</td>\n",
              "      <td>19179.500000</td>\n",
              "      <td>20032.599610</td>\n",
              "      <td>18982.000000</td>\n",
              "      <td>19987.199220</td>\n",
              "      <td>19987.199220</td>\n",
              "      <td>1697976300</td>\n",
              "      <td>5.45</td>\n",
              "      <td>3.25</td>\n",
              "    </tr>\n",
              "  </tbody>\n",
              "</table>\n",
              "<p>213 rows × 29 columns</p>\n",
              "</div>\n",
              "      <button class=\"colab-df-convert\" onclick=\"convertToInteractive('df-541fbd7f-bbd7-4b2f-8e5e-7a7751340aec')\"\n",
              "              title=\"Convert this dataframe to an interactive table.\"\n",
              "              style=\"display:none;\">\n",
              "        \n",
              "  <svg xmlns=\"http://www.w3.org/2000/svg\" height=\"24px\"viewBox=\"0 0 24 24\"\n",
              "       width=\"24px\">\n",
              "    <path d=\"M0 0h24v24H0V0z\" fill=\"none\"/>\n",
              "    <path d=\"M18.56 5.44l.94 2.06.94-2.06 2.06-.94-2.06-.94-.94-2.06-.94 2.06-2.06.94zm-11 1L8.5 8.5l.94-2.06 2.06-.94-2.06-.94L8.5 2.5l-.94 2.06-2.06.94zm10 10l.94 2.06.94-2.06 2.06-.94-2.06-.94-.94-2.06-.94 2.06-2.06.94z\"/><path d=\"M17.41 7.96l-1.37-1.37c-.4-.4-.92-.59-1.43-.59-.52 0-1.04.2-1.43.59L10.3 9.45l-7.72 7.72c-.78.78-.78 2.05 0 2.83L4 21.41c.39.39.9.59 1.41.59.51 0 1.02-.2 1.41-.59l7.78-7.78 2.81-2.81c.8-.78.8-2.07 0-2.86zM5.41 20L4 18.59l7.72-7.72 1.47 1.35L5.41 20z\"/>\n",
              "  </svg>\n",
              "      </button>\n",
              "      \n",
              "  <style>\n",
              "    .colab-df-container {\n",
              "      display:flex;\n",
              "      flex-wrap:wrap;\n",
              "      gap: 12px;\n",
              "    }\n",
              "\n",
              "    .colab-df-convert {\n",
              "      background-color: #E8F0FE;\n",
              "      border: none;\n",
              "      border-radius: 50%;\n",
              "      cursor: pointer;\n",
              "      display: none;\n",
              "      fill: #1967D2;\n",
              "      height: 32px;\n",
              "      padding: 0 0 0 0;\n",
              "      width: 32px;\n",
              "    }\n",
              "\n",
              "    .colab-df-convert:hover {\n",
              "      background-color: #E2EBFA;\n",
              "      box-shadow: 0px 1px 2px rgba(60, 64, 67, 0.3), 0px 1px 3px 1px rgba(60, 64, 67, 0.15);\n",
              "      fill: #174EA6;\n",
              "    }\n",
              "\n",
              "    [theme=dark] .colab-df-convert {\n",
              "      background-color: #3B4455;\n",
              "      fill: #D2E3FC;\n",
              "    }\n",
              "\n",
              "    [theme=dark] .colab-df-convert:hover {\n",
              "      background-color: #434B5C;\n",
              "      box-shadow: 0px 1px 3px 1px rgba(0, 0, 0, 0.15);\n",
              "      filter: drop-shadow(0px 1px 2px rgba(0, 0, 0, 0.3));\n",
              "      fill: #FFFFFF;\n",
              "    }\n",
              "  </style>\n",
              "\n",
              "      <script>\n",
              "        const buttonEl =\n",
              "          document.querySelector('#df-541fbd7f-bbd7-4b2f-8e5e-7a7751340aec button.colab-df-convert');\n",
              "        buttonEl.style.display =\n",
              "          google.colab.kernel.accessAllowed ? 'block' : 'none';\n",
              "\n",
              "        async function convertToInteractive(key) {\n",
              "          const element = document.querySelector('#df-541fbd7f-bbd7-4b2f-8e5e-7a7751340aec');\n",
              "          const dataTable =\n",
              "            await google.colab.kernel.invokeFunction('convertToInteractive',\n",
              "                                                     [key], {});\n",
              "          if (!dataTable) return;\n",
              "\n",
              "          const docLinkHtml = 'Like what you see? Visit the ' +\n",
              "            '<a target=\"_blank\" href=https://colab.research.google.com/notebooks/data_table.ipynb>data table notebook</a>'\n",
              "            + ' to learn more about interactive tables.';\n",
              "          element.innerHTML = '';\n",
              "          dataTable['output_type'] = 'display_data';\n",
              "          await google.colab.output.renderOutput(dataTable, element);\n",
              "          const docLink = document.createElement('div');\n",
              "          docLink.innerHTML = docLinkHtml;\n",
              "          element.appendChild(docLink);\n",
              "        }\n",
              "      </script>\n",
              "    </div>\n",
              "  </div>\n",
              "  "
            ]
          },
          "metadata": {},
          "execution_count": 16
        }
      ]
    },
    {
      "cell_type": "code",
      "source": [
        "df.info()"
      ],
      "metadata": {
        "colab": {
          "base_uri": "https://localhost:8080/"
        },
        "id": "_WM8B9rjH2Q_",
        "outputId": "9d889522-9ef9-4cf2-a732-943f0331f6ee"
      },
      "execution_count": 3,
      "outputs": [
        {
          "output_type": "stream",
          "name": "stdout",
          "text": [
            "<class 'pandas.core.frame.DataFrame'>\n",
            "DatetimeIndex: 213 entries, 2005-01-01 to 2022-01-09\n",
            "Data columns (total 29 columns):\n",
            " #   Column                         Non-Null Count  Dtype  \n",
            "---  ------                         --------------  -----  \n",
            " 0   Composite_HPI_SA               213 non-null    float64\n",
            " 1   Single_Family_HPI_SA           213 non-null    float64\n",
            " 2   One_Storey_HPI_SA              213 non-null    float64\n",
            " 3   Two_Storey_HPI_SA              213 non-null    float64\n",
            " 4   Townhouse_HPI_SA               213 non-null    float64\n",
            " 5   Apartment_HPI_SA               213 non-null    float64\n",
            " 6   Composite_Benchmark_SA         213 non-null    int64  \n",
            " 7   Single_Family_Benchmark_SA     213 non-null    int64  \n",
            " 8   One_Storey_Benchmark_SA        213 non-null    int64  \n",
            " 9   Two_Storey_Benchmark_SA        213 non-null    int64  \n",
            " 10  Townhouse_Benchmark_SA         213 non-null    int64  \n",
            " 11  Apartment_Benchmark_SA         213 non-null    int64  \n",
            " 12  V41690973                      213 non-null    float64\n",
            " 13  V41690914                      213 non-null    float64\n",
            " 14  STATIC_TOTALCPICHANGE          213 non-null    float64\n",
            " 15  CPI_TRIM                       213 non-null    float64\n",
            " 16  CPI_MEDIAN                     213 non-null    float64\n",
            " 17  CPI_COMMON                     213 non-null    float64\n",
            " 18  ATOM_V41693242                 213 non-null    float64\n",
            " 19  STATIC_CPIXFET                 213 non-null    float64\n",
            " 20  CPIW                           213 non-null    float64\n",
            " 21  Open                           213 non-null    float64\n",
            " 22  High                           213 non-null    float64\n",
            " 23  Low                            213 non-null    float64\n",
            " 24  Close                          213 non-null    float64\n",
            " 25  Adj Close                      213 non-null    float64\n",
            " 26  Volume                         213 non-null    int64  \n",
            " 27  Prime Rate                     213 non-null    float64\n",
            " 28  Bank of Canada Overnight Rate  213 non-null    float64\n",
            "dtypes: float64(22), int64(7)\n",
            "memory usage: 49.9 KB\n"
          ]
        }
      ]
    },
    {
      "cell_type": "code",
      "source": [
        "df.describe()"
      ],
      "metadata": {
        "colab": {
          "base_uri": "https://localhost:8080/",
          "height": 446
        },
        "id": "7uzg7R74H4gS",
        "outputId": "86f5a354-9994-4201-a831-1bb7e819e1ca"
      },
      "execution_count": 4,
      "outputs": [
        {
          "output_type": "execute_result",
          "data": {
            "text/plain": [
              "       Composite_HPI_SA  Single_Family_HPI_SA  One_Storey_HPI_SA  \\\n",
              "count        213.000000            213.000000         213.000000   \n",
              "mean         198.466667            204.350704         191.772300   \n",
              "std           66.429985             70.242944          61.851317   \n",
              "min          100.000000            100.000000         100.000000   \n",
              "25%          147.800000            150.000000         150.000000   \n",
              "50%          176.800000            183.000000         171.500000   \n",
              "75%          248.000000            251.900000         233.300000   \n",
              "max          380.000000            398.200000         370.100000   \n",
              "\n",
              "       Two_Storey_HPI_SA  Townhouse_HPI_SA  Apartment_HPI_SA  \\\n",
              "count         213.000000        213.000000        213.000000   \n",
              "mean          203.486385        184.174648        186.587324   \n",
              "std            71.078958         65.412001         59.976800   \n",
              "min           100.000000        100.000000        100.000000   \n",
              "25%           145.900000        138.900000        144.500000   \n",
              "50%           182.100000        154.800000        159.100000   \n",
              "75%           254.200000        233.600000        244.300000   \n",
              "max           395.500000        369.100000        338.100000   \n",
              "\n",
              "       Composite_Benchmark_SA  Single_Family_Benchmark_SA  \\\n",
              "count              213.000000                  213.000000   \n",
              "mean            439008.450704               479618.779343   \n",
              "std             146949.599317               164862.280789   \n",
              "min             221200.000000               234700.000000   \n",
              "25%             327000.000000               352000.000000   \n",
              "50%             391000.000000               429600.000000   \n",
              "75%             548500.000000               591300.000000   \n",
              "max             840600.000000               934500.000000   \n",
              "\n",
              "       One_Storey_Benchmark_SA  Two_Storey_Benchmark_SA  ...  STATIC_CPIXFET  \\\n",
              "count               213.000000             2.130000e+02  ...      213.000000   \n",
              "mean             372427.230047             5.571394e+05  ...        1.713615   \n",
              "std              120110.074556             1.946129e+05  ...        0.864255   \n",
              "min              194200.000000             2.738000e+05  ...        0.400000   \n",
              "25%              291300.000000             3.994000e+05  ...        1.200000   \n",
              "50%              333100.000000             4.985000e+05  ...        1.700000   \n",
              "75%              453000.000000             6.961000e+05  ...        2.000000   \n",
              "max              718700.000000             1.083000e+06  ...        5.500000   \n",
              "\n",
              "             CPIW          Open          High           Low         Close  \\\n",
              "count  213.000000    213.000000    213.000000    213.000000    213.000000   \n",
              "mean     1.970423  14084.591553  14470.641722  13610.362909  14119.135235   \n",
              "std      0.950828   2784.526241   2813.483413   2796.601294   2772.303852   \n",
              "min      0.700000   7997.600098   9018.500000   7480.000000   8123.000000   \n",
              "25%      1.400000  12200.700200  12511.500000  11649.400390  12239.400390   \n",
              "50%      1.800000  13751.799810  14172.400390  13254.000000  13859.099610   \n",
              "75%      2.100000  15587.000000  15922.599610  15164.700200  15547.799810   \n",
              "max      6.400000  21970.800780  22213.099610  20912.099610  21890.199220   \n",
              "\n",
              "          Adj Close        Volume  Prime Rate  Bank of Canada Overnight Rate  \n",
              "count    213.000000  2.130000e+02  213.000000                     213.000000  \n",
              "mean   14119.135235  4.275529e+09    3.489437                       1.457746  \n",
              "std     2772.303852  1.164077e+09    1.138527                       1.264761  \n",
              "min     8123.000000  3.796520e+07    2.250000                       0.250000  \n",
              "25%    12239.400390  3.642521e+09    2.700000                       0.500000  \n",
              "50%    13859.099610  4.271470e+09    3.000000                       1.000000  \n",
              "75%    15547.799810  4.831907e+09    3.950000                       1.750000  \n",
              "max    21890.199220  1.099686e+10    6.250000                       4.500000  \n",
              "\n",
              "[8 rows x 29 columns]"
            ],
            "text/html": [
              "\n",
              "  <div id=\"df-300e170d-4040-4457-82f5-b0cf1690b7c0\">\n",
              "    <div class=\"colab-df-container\">\n",
              "      <div>\n",
              "<style scoped>\n",
              "    .dataframe tbody tr th:only-of-type {\n",
              "        vertical-align: middle;\n",
              "    }\n",
              "\n",
              "    .dataframe tbody tr th {\n",
              "        vertical-align: top;\n",
              "    }\n",
              "\n",
              "    .dataframe thead th {\n",
              "        text-align: right;\n",
              "    }\n",
              "</style>\n",
              "<table border=\"1\" class=\"dataframe\">\n",
              "  <thead>\n",
              "    <tr style=\"text-align: right;\">\n",
              "      <th></th>\n",
              "      <th>Composite_HPI_SA</th>\n",
              "      <th>Single_Family_HPI_SA</th>\n",
              "      <th>One_Storey_HPI_SA</th>\n",
              "      <th>Two_Storey_HPI_SA</th>\n",
              "      <th>Townhouse_HPI_SA</th>\n",
              "      <th>Apartment_HPI_SA</th>\n",
              "      <th>Composite_Benchmark_SA</th>\n",
              "      <th>Single_Family_Benchmark_SA</th>\n",
              "      <th>One_Storey_Benchmark_SA</th>\n",
              "      <th>Two_Storey_Benchmark_SA</th>\n",
              "      <th>...</th>\n",
              "      <th>STATIC_CPIXFET</th>\n",
              "      <th>CPIW</th>\n",
              "      <th>Open</th>\n",
              "      <th>High</th>\n",
              "      <th>Low</th>\n",
              "      <th>Close</th>\n",
              "      <th>Adj Close</th>\n",
              "      <th>Volume</th>\n",
              "      <th>Prime Rate</th>\n",
              "      <th>Bank of Canada Overnight Rate</th>\n",
              "    </tr>\n",
              "  </thead>\n",
              "  <tbody>\n",
              "    <tr>\n",
              "      <th>count</th>\n",
              "      <td>213.000000</td>\n",
              "      <td>213.000000</td>\n",
              "      <td>213.000000</td>\n",
              "      <td>213.000000</td>\n",
              "      <td>213.000000</td>\n",
              "      <td>213.000000</td>\n",
              "      <td>213.000000</td>\n",
              "      <td>213.000000</td>\n",
              "      <td>213.000000</td>\n",
              "      <td>2.130000e+02</td>\n",
              "      <td>...</td>\n",
              "      <td>213.000000</td>\n",
              "      <td>213.000000</td>\n",
              "      <td>213.000000</td>\n",
              "      <td>213.000000</td>\n",
              "      <td>213.000000</td>\n",
              "      <td>213.000000</td>\n",
              "      <td>213.000000</td>\n",
              "      <td>2.130000e+02</td>\n",
              "      <td>213.000000</td>\n",
              "      <td>213.000000</td>\n",
              "    </tr>\n",
              "    <tr>\n",
              "      <th>mean</th>\n",
              "      <td>198.466667</td>\n",
              "      <td>204.350704</td>\n",
              "      <td>191.772300</td>\n",
              "      <td>203.486385</td>\n",
              "      <td>184.174648</td>\n",
              "      <td>186.587324</td>\n",
              "      <td>439008.450704</td>\n",
              "      <td>479618.779343</td>\n",
              "      <td>372427.230047</td>\n",
              "      <td>5.571394e+05</td>\n",
              "      <td>...</td>\n",
              "      <td>1.713615</td>\n",
              "      <td>1.970423</td>\n",
              "      <td>14084.591553</td>\n",
              "      <td>14470.641722</td>\n",
              "      <td>13610.362909</td>\n",
              "      <td>14119.135235</td>\n",
              "      <td>14119.135235</td>\n",
              "      <td>4.275529e+09</td>\n",
              "      <td>3.489437</td>\n",
              "      <td>1.457746</td>\n",
              "    </tr>\n",
              "    <tr>\n",
              "      <th>std</th>\n",
              "      <td>66.429985</td>\n",
              "      <td>70.242944</td>\n",
              "      <td>61.851317</td>\n",
              "      <td>71.078958</td>\n",
              "      <td>65.412001</td>\n",
              "      <td>59.976800</td>\n",
              "      <td>146949.599317</td>\n",
              "      <td>164862.280789</td>\n",
              "      <td>120110.074556</td>\n",
              "      <td>1.946129e+05</td>\n",
              "      <td>...</td>\n",
              "      <td>0.864255</td>\n",
              "      <td>0.950828</td>\n",
              "      <td>2784.526241</td>\n",
              "      <td>2813.483413</td>\n",
              "      <td>2796.601294</td>\n",
              "      <td>2772.303852</td>\n",
              "      <td>2772.303852</td>\n",
              "      <td>1.164077e+09</td>\n",
              "      <td>1.138527</td>\n",
              "      <td>1.264761</td>\n",
              "    </tr>\n",
              "    <tr>\n",
              "      <th>min</th>\n",
              "      <td>100.000000</td>\n",
              "      <td>100.000000</td>\n",
              "      <td>100.000000</td>\n",
              "      <td>100.000000</td>\n",
              "      <td>100.000000</td>\n",
              "      <td>100.000000</td>\n",
              "      <td>221200.000000</td>\n",
              "      <td>234700.000000</td>\n",
              "      <td>194200.000000</td>\n",
              "      <td>2.738000e+05</td>\n",
              "      <td>...</td>\n",
              "      <td>0.400000</td>\n",
              "      <td>0.700000</td>\n",
              "      <td>7997.600098</td>\n",
              "      <td>9018.500000</td>\n",
              "      <td>7480.000000</td>\n",
              "      <td>8123.000000</td>\n",
              "      <td>8123.000000</td>\n",
              "      <td>3.796520e+07</td>\n",
              "      <td>2.250000</td>\n",
              "      <td>0.250000</td>\n",
              "    </tr>\n",
              "    <tr>\n",
              "      <th>25%</th>\n",
              "      <td>147.800000</td>\n",
              "      <td>150.000000</td>\n",
              "      <td>150.000000</td>\n",
              "      <td>145.900000</td>\n",
              "      <td>138.900000</td>\n",
              "      <td>144.500000</td>\n",
              "      <td>327000.000000</td>\n",
              "      <td>352000.000000</td>\n",
              "      <td>291300.000000</td>\n",
              "      <td>3.994000e+05</td>\n",
              "      <td>...</td>\n",
              "      <td>1.200000</td>\n",
              "      <td>1.400000</td>\n",
              "      <td>12200.700200</td>\n",
              "      <td>12511.500000</td>\n",
              "      <td>11649.400390</td>\n",
              "      <td>12239.400390</td>\n",
              "      <td>12239.400390</td>\n",
              "      <td>3.642521e+09</td>\n",
              "      <td>2.700000</td>\n",
              "      <td>0.500000</td>\n",
              "    </tr>\n",
              "    <tr>\n",
              "      <th>50%</th>\n",
              "      <td>176.800000</td>\n",
              "      <td>183.000000</td>\n",
              "      <td>171.500000</td>\n",
              "      <td>182.100000</td>\n",
              "      <td>154.800000</td>\n",
              "      <td>159.100000</td>\n",
              "      <td>391000.000000</td>\n",
              "      <td>429600.000000</td>\n",
              "      <td>333100.000000</td>\n",
              "      <td>4.985000e+05</td>\n",
              "      <td>...</td>\n",
              "      <td>1.700000</td>\n",
              "      <td>1.800000</td>\n",
              "      <td>13751.799810</td>\n",
              "      <td>14172.400390</td>\n",
              "      <td>13254.000000</td>\n",
              "      <td>13859.099610</td>\n",
              "      <td>13859.099610</td>\n",
              "      <td>4.271470e+09</td>\n",
              "      <td>3.000000</td>\n",
              "      <td>1.000000</td>\n",
              "    </tr>\n",
              "    <tr>\n",
              "      <th>75%</th>\n",
              "      <td>248.000000</td>\n",
              "      <td>251.900000</td>\n",
              "      <td>233.300000</td>\n",
              "      <td>254.200000</td>\n",
              "      <td>233.600000</td>\n",
              "      <td>244.300000</td>\n",
              "      <td>548500.000000</td>\n",
              "      <td>591300.000000</td>\n",
              "      <td>453000.000000</td>\n",
              "      <td>6.961000e+05</td>\n",
              "      <td>...</td>\n",
              "      <td>2.000000</td>\n",
              "      <td>2.100000</td>\n",
              "      <td>15587.000000</td>\n",
              "      <td>15922.599610</td>\n",
              "      <td>15164.700200</td>\n",
              "      <td>15547.799810</td>\n",
              "      <td>15547.799810</td>\n",
              "      <td>4.831907e+09</td>\n",
              "      <td>3.950000</td>\n",
              "      <td>1.750000</td>\n",
              "    </tr>\n",
              "    <tr>\n",
              "      <th>max</th>\n",
              "      <td>380.000000</td>\n",
              "      <td>398.200000</td>\n",
              "      <td>370.100000</td>\n",
              "      <td>395.500000</td>\n",
              "      <td>369.100000</td>\n",
              "      <td>338.100000</td>\n",
              "      <td>840600.000000</td>\n",
              "      <td>934500.000000</td>\n",
              "      <td>718700.000000</td>\n",
              "      <td>1.083000e+06</td>\n",
              "      <td>...</td>\n",
              "      <td>5.500000</td>\n",
              "      <td>6.400000</td>\n",
              "      <td>21970.800780</td>\n",
              "      <td>22213.099610</td>\n",
              "      <td>20912.099610</td>\n",
              "      <td>21890.199220</td>\n",
              "      <td>21890.199220</td>\n",
              "      <td>1.099686e+10</td>\n",
              "      <td>6.250000</td>\n",
              "      <td>4.500000</td>\n",
              "    </tr>\n",
              "  </tbody>\n",
              "</table>\n",
              "<p>8 rows × 29 columns</p>\n",
              "</div>\n",
              "      <button class=\"colab-df-convert\" onclick=\"convertToInteractive('df-300e170d-4040-4457-82f5-b0cf1690b7c0')\"\n",
              "              title=\"Convert this dataframe to an interactive table.\"\n",
              "              style=\"display:none;\">\n",
              "        \n",
              "  <svg xmlns=\"http://www.w3.org/2000/svg\" height=\"24px\"viewBox=\"0 0 24 24\"\n",
              "       width=\"24px\">\n",
              "    <path d=\"M0 0h24v24H0V0z\" fill=\"none\"/>\n",
              "    <path d=\"M18.56 5.44l.94 2.06.94-2.06 2.06-.94-2.06-.94-.94-2.06-.94 2.06-2.06.94zm-11 1L8.5 8.5l.94-2.06 2.06-.94-2.06-.94L8.5 2.5l-.94 2.06-2.06.94zm10 10l.94 2.06.94-2.06 2.06-.94-2.06-.94-.94-2.06-.94 2.06-2.06.94z\"/><path d=\"M17.41 7.96l-1.37-1.37c-.4-.4-.92-.59-1.43-.59-.52 0-1.04.2-1.43.59L10.3 9.45l-7.72 7.72c-.78.78-.78 2.05 0 2.83L4 21.41c.39.39.9.59 1.41.59.51 0 1.02-.2 1.41-.59l7.78-7.78 2.81-2.81c.8-.78.8-2.07 0-2.86zM5.41 20L4 18.59l7.72-7.72 1.47 1.35L5.41 20z\"/>\n",
              "  </svg>\n",
              "      </button>\n",
              "      \n",
              "  <style>\n",
              "    .colab-df-container {\n",
              "      display:flex;\n",
              "      flex-wrap:wrap;\n",
              "      gap: 12px;\n",
              "    }\n",
              "\n",
              "    .colab-df-convert {\n",
              "      background-color: #E8F0FE;\n",
              "      border: none;\n",
              "      border-radius: 50%;\n",
              "      cursor: pointer;\n",
              "      display: none;\n",
              "      fill: #1967D2;\n",
              "      height: 32px;\n",
              "      padding: 0 0 0 0;\n",
              "      width: 32px;\n",
              "    }\n",
              "\n",
              "    .colab-df-convert:hover {\n",
              "      background-color: #E2EBFA;\n",
              "      box-shadow: 0px 1px 2px rgba(60, 64, 67, 0.3), 0px 1px 3px 1px rgba(60, 64, 67, 0.15);\n",
              "      fill: #174EA6;\n",
              "    }\n",
              "\n",
              "    [theme=dark] .colab-df-convert {\n",
              "      background-color: #3B4455;\n",
              "      fill: #D2E3FC;\n",
              "    }\n",
              "\n",
              "    [theme=dark] .colab-df-convert:hover {\n",
              "      background-color: #434B5C;\n",
              "      box-shadow: 0px 1px 3px 1px rgba(0, 0, 0, 0.15);\n",
              "      filter: drop-shadow(0px 1px 2px rgba(0, 0, 0, 0.3));\n",
              "      fill: #FFFFFF;\n",
              "    }\n",
              "  </style>\n",
              "\n",
              "      <script>\n",
              "        const buttonEl =\n",
              "          document.querySelector('#df-300e170d-4040-4457-82f5-b0cf1690b7c0 button.colab-df-convert');\n",
              "        buttonEl.style.display =\n",
              "          google.colab.kernel.accessAllowed ? 'block' : 'none';\n",
              "\n",
              "        async function convertToInteractive(key) {\n",
              "          const element = document.querySelector('#df-300e170d-4040-4457-82f5-b0cf1690b7c0');\n",
              "          const dataTable =\n",
              "            await google.colab.kernel.invokeFunction('convertToInteractive',\n",
              "                                                     [key], {});\n",
              "          if (!dataTable) return;\n",
              "\n",
              "          const docLinkHtml = 'Like what you see? Visit the ' +\n",
              "            '<a target=\"_blank\" href=https://colab.research.google.com/notebooks/data_table.ipynb>data table notebook</a>'\n",
              "            + ' to learn more about interactive tables.';\n",
              "          element.innerHTML = '';\n",
              "          dataTable['output_type'] = 'display_data';\n",
              "          await google.colab.output.renderOutput(dataTable, element);\n",
              "          const docLink = document.createElement('div');\n",
              "          docLink.innerHTML = docLinkHtml;\n",
              "          element.appendChild(docLink);\n",
              "        }\n",
              "      </script>\n",
              "    </div>\n",
              "  </div>\n",
              "  "
            ]
          },
          "metadata": {},
          "execution_count": 4
        }
      ]
    },
    {
      "cell_type": "code",
      "source": [
        "from statsmodels.tsa.stattools import adfuller\n",
        "\n",
        "ts = pd.DataFrame(df).set_index(pd.date_range(start='1/1/2000', periods=len(df), freq='M'))\n",
        "\n",
        "# Define a function to test for stationarity\n",
        "def is_stationary(timeseries):\n",
        "    result = adfuller(timeseries)\n",
        "    print(f\"p-value: {result[1]}\")\n",
        "    if result[1] <= 0.05:\n",
        "        print(\"Data is stationary\")\n",
        "    else:\n",
        "        print(\"Data is non-stationary\")\n",
        "\n",
        "# Test for stationarity in each column of the dataframe\n",
        "for col in ts.columns:\n",
        "    print(f\"Testing stationarity for column '{col}':\")\n",
        "    is_stationary(ts[col])\n",
        "    print()"
      ],
      "metadata": {
        "colab": {
          "base_uri": "https://localhost:8080/"
        },
        "id": "BhH1PtXmwwEO",
        "outputId": "f766028c-7bb6-424c-f80a-b8084b24cff2"
      },
      "execution_count": 6,
      "outputs": [
        {
          "output_type": "stream",
          "name": "stdout",
          "text": [
            "Testing stationarity for column 'Composite_HPI_SA':\n",
            "p-value: 0.8034624159916028\n",
            "Data is non-stationary\n",
            "\n",
            "Testing stationarity for column 'Single_Family_HPI_SA':\n",
            "p-value: 0.8666156175637151\n",
            "Data is non-stationary\n",
            "\n",
            "Testing stationarity for column 'One_Storey_HPI_SA':\n",
            "p-value: 0.9432447423990696\n",
            "Data is non-stationary\n",
            "\n",
            "Testing stationarity for column 'Two_Storey_HPI_SA':\n",
            "p-value: 0.912196321931412\n",
            "Data is non-stationary\n",
            "\n",
            "Testing stationarity for column 'Townhouse_HPI_SA':\n",
            "p-value: 0.9929229604184512\n",
            "Data is non-stationary\n",
            "\n",
            "Testing stationarity for column 'Apartment_HPI_SA':\n",
            "p-value: 0.9926020928174787\n",
            "Data is non-stationary\n",
            "\n",
            "Testing stationarity for column 'Composite_Benchmark_SA':\n",
            "p-value: 0.8096737100803254\n",
            "Data is non-stationary\n",
            "\n",
            "Testing stationarity for column 'Single_Family_Benchmark_SA':\n",
            "p-value: 0.8620961670430324\n",
            "Data is non-stationary\n",
            "\n",
            "Testing stationarity for column 'One_Storey_Benchmark_SA':\n",
            "p-value: 0.9417624301957846\n",
            "Data is non-stationary\n",
            "\n",
            "Testing stationarity for column 'Two_Storey_Benchmark_SA':\n",
            "p-value: 0.9111502505624935\n",
            "Data is non-stationary\n",
            "\n",
            "Testing stationarity for column 'Townhouse_Benchmark_SA':\n",
            "p-value: 0.9926809945578501\n",
            "Data is non-stationary\n",
            "\n",
            "Testing stationarity for column 'Apartment_Benchmark_SA':\n",
            "p-value: 0.9927321386524293\n",
            "Data is non-stationary\n",
            "\n",
            "Testing stationarity for column 'V41690973':\n",
            "p-value: 0.998370516725346\n",
            "Data is non-stationary\n",
            "\n",
            "Testing stationarity for column 'V41690914':\n",
            "p-value: 0.9990800875186058\n",
            "Data is non-stationary\n",
            "\n",
            "Testing stationarity for column 'STATIC_TOTALCPICHANGE':\n",
            "p-value: 0.6468420702333433\n",
            "Data is non-stationary\n",
            "\n",
            "Testing stationarity for column 'CPI_TRIM':\n",
            "p-value: 0.9096367784346793\n",
            "Data is non-stationary\n",
            "\n",
            "Testing stationarity for column 'CPI_MEDIAN':\n",
            "p-value: 0.8841393377346354\n",
            "Data is non-stationary\n",
            "\n",
            "Testing stationarity for column 'CPI_COMMON':\n",
            "p-value: 0.7775791969429564\n",
            "Data is non-stationary\n",
            "\n",
            "Testing stationarity for column 'ATOM_V41693242':\n",
            "p-value: 0.7441693907544752\n",
            "Data is non-stationary\n",
            "\n",
            "Testing stationarity for column 'STATIC_CPIXFET':\n",
            "p-value: 0.5994663826094968\n",
            "Data is non-stationary\n",
            "\n",
            "Testing stationarity for column 'CPIW':\n",
            "p-value: 0.8345814394574207\n",
            "Data is non-stationary\n",
            "\n",
            "Testing stationarity for column 'Open':\n",
            "p-value: 0.5598136558730856\n",
            "Data is non-stationary\n",
            "\n",
            "Testing stationarity for column 'High':\n",
            "p-value: 0.6271258441161265\n",
            "Data is non-stationary\n",
            "\n",
            "Testing stationarity for column 'Low':\n",
            "p-value: 0.385557776401672\n",
            "Data is non-stationary\n",
            "\n",
            "Testing stationarity for column 'Close':\n",
            "p-value: 0.6792541873576199\n",
            "Data is non-stationary\n",
            "\n",
            "Testing stationarity for column 'Adj Close':\n",
            "p-value: 0.6792541873576199\n",
            "Data is non-stationary\n",
            "\n",
            "Testing stationarity for column 'Volume':\n",
            "p-value: 0.054167439448935366\n",
            "Data is non-stationary\n",
            "\n",
            "Testing stationarity for column 'Prime Rate':\n",
            "p-value: 0.2440116506847459\n",
            "Data is non-stationary\n",
            "\n",
            "Testing stationarity for column 'Bank of Canada Overnight Rate':\n",
            "p-value: 0.2996612039628481\n",
            "Data is non-stationary\n",
            "\n"
          ]
        }
      ]
    },
    {
      "cell_type": "code",
      "source": [
        "# Select the time series column\n",
        "y = df['Composite_HPI_SA']\n",
        "\n",
        "# Take the first difference of the time series\n",
        "y_diff = y.diff().dropna()\n",
        "\n",
        "# Plot the original and differenced time series\n",
        "import matplotlib.pyplot as plt\n",
        "plt.plot(y, label='Original')\n",
        "plt.plot(y_diff, label='Differenced')\n",
        "plt.legend()\n",
        "plt.show()"
      ],
      "metadata": {
        "colab": {
          "base_uri": "https://localhost:8080/",
          "height": 297
        },
        "id": "98FA3X3rrD28",
        "outputId": "5e4a8726-b0ef-4c70-d0cd-b7a95de6890c"
      },
      "execution_count": 17,
      "outputs": [
        {
          "output_type": "display_data",
          "data": {
            "text/plain": [
              "<Figure size 432x288 with 1 Axes>"
            ],
            "image/png": "[encoded data removed]"
          },
          "metadata": {
            "needs_background": "light"
          }
        }
      ]
    },
    {
      "cell_type": "code",
      "source": [
        "df.columns"
      ],
      "metadata": {
        "colab": {
          "base_uri": "https://localhost:8080/"
        },
        "id": "ad1821DyYIVv",
        "outputId": "0cba984e-0dc8-4e64-e7e9-8ab8eb6c0b23"
      },
      "execution_count": 18,
      "outputs": [
        {
          "output_type": "execute_result",
          "data": {
            "text/plain": [
              "Index(['Composite_HPI_SA', 'Single_Family_HPI_SA', 'One_Storey_HPI_SA',\n",
              "       'Two_Storey_HPI_SA', 'Townhouse_HPI_SA', 'Apartment_HPI_SA',\n",
              "       'Composite_Benchmark_SA', 'Single_Family_Benchmark_SA',\n",
              "       'One_Storey_Benchmark_SA', 'Two_Storey_Benchmark_SA',\n",
              "       'Townhouse_Benchmark_SA', 'Apartment_Benchmark_SA', 'V41690973',\n",
              "       'V41690914', 'STATIC_TOTALCPICHANGE', 'CPI_TRIM', 'CPI_MEDIAN',\n",
              "       'CPI_COMMON', 'ATOM_V41693242', 'STATIC_CPIXFET', 'CPIW', 'Open',\n",
              "       'High', 'Low', 'Close', 'Adj Close', 'Volume', 'Prime Rate',\n",
              "       'Bank of Canada Overnight Rate'],\n",
              "      dtype='object')"
            ]
          },
          "metadata": {},
          "execution_count": 18
        }
      ]
    },
    {
      "cell_type": "code",
      "source": [
        "import statsmodels.api as sm\n",
        "from sklearn.metrics import mean_absolute_error\n",
        "from sklearn.model_selection import train_test_split\n",
        "\n",
        "# Specify the target variable and the independent variables\n",
        "y = df[\"Composite_HPI_SA\"]\n",
        "X = df[['Single_Family_HPI_SA', 'One_Storey_HPI_SA',\n",
        "       'Two_Storey_HPI_SA', 'Townhouse_HPI_SA', 'Apartment_HPI_SA',\n",
        "       'Composite_Benchmark_SA', 'Single_Family_Benchmark_SA',\n",
        "       'One_Storey_Benchmark_SA', 'Two_Storey_Benchmark_SA',\n",
        "       'Townhouse_Benchmark_SA', 'Apartment_Benchmark_SA', 'V41690973',\n",
        "       'V41690914', 'STATIC_TOTALCPICHANGE', 'CPI_TRIM', 'CPI_MEDIAN',\n",
        "       'CPI_COMMON', 'ATOM_V41693242', 'STATIC_CPIXFET', 'CPIW', 'Open',\n",
        "       'High', 'Low', 'Close', 'Adj Close', 'Volume', 'Prime Rate',\n",
        "       'Bank of Canada Overnight Rate']]\n",
        "\n",
        "# Split the data into training and test sets\n",
        "X_train, X_test, y_train, y_test = train_test_split(X, y, test_size=0.2)\n",
        "\n",
        "# Fit the SARIMAX model to the training data\n",
        "model = sm.tsa.statespace.SARIMAX(y_train, exog=X_train, enforce_stationarity=False, enforce_invertibility=False)\n",
        "results = model.fit()\n",
        "\n",
        "# Make predictions on the test set\n",
        "predictions = results.predict(exog=X_test)\n",
        "\n",
        "# Calculate the error\n",
        "# error = mean_absolute_error(y_test, predictions)"
      ],
      "metadata": {
        "colab": {
          "base_uri": "https://localhost:8080/"
        },
        "id": "9KwQ3oGLX1zh",
        "outputId": "51dbe24e-7475-4852-8cf9-80f38c7d917e"
      },
      "execution_count": 19,
      "outputs": [
        {
          "output_type": "stream",
          "name": "stderr",
          "text": [
            "/usr/local/lib/python3.8/dist-packages/statsmodels/tsa/base/tsa_model.py:581: ValueWarning: A date index has been provided, but it has no associated frequency information and so will be ignored when e.g. forecasting.\n",
            "  warnings.warn('A date index has been provided, but it has no'\n",
            "/usr/local/lib/python3.8/dist-packages/statsmodels/tsa/base/tsa_model.py:585: ValueWarning: A date index has been provided, but it is not monotonic and so will be ignored when e.g. forecasting.\n",
            "  warnings.warn('A date index has been provided, but it is not'\n",
            "/usr/local/lib/python3.8/dist-packages/statsmodels/tsa/base/tsa_model.py:581: ValueWarning: A date index has been provided, but it has no associated frequency information and so will be ignored when e.g. forecasting.\n",
            "  warnings.warn('A date index has been provided, but it has no'\n",
            "/usr/local/lib/python3.8/dist-packages/statsmodels/tsa/base/tsa_model.py:585: ValueWarning: A date index has been provided, but it is not monotonic and so will be ignored when e.g. forecasting.\n",
            "  warnings.warn('A date index has been provided, but it is not'\n",
            "/usr/local/lib/python3.8/dist-packages/statsmodels/base/model.py:566: ConvergenceWarning: Maximum Likelihood optimization failed to converge. Check mle_retvals\n",
            "  warnings.warn(\"Maximum Likelihood optimization failed to \"\n"
          ]
        }
      ]
    },
    {
      "cell_type": "code",
      "source": [
        "import statsmodels.api as sm\n",
        "import tqdm\n",
        "import pandas as pd\n",
        "# import pmdarima as pm\n",
        "import numpy as np\n",
        "# read dataframe\n",
        "df = pd.read_csv('/content/FinalMergedDatasets2.csv').set_index('Date')\n",
        "df.index = pd.to_datetime(df.index)\n",
        "df = df[['Single_Family_HPI_SA', 'One_Storey_HPI_SA',\n",
        "       'Two_Storey_HPI_SA', 'Townhouse_HPI_SA', 'Apartment_HPI_SA',\n",
        "       'Composite_Benchmark_SA', 'Single_Family_Benchmark_SA',\n",
        "       'One_Storey_Benchmark_SA', 'Two_Storey_Benchmark_SA',\n",
        "       'Townhouse_Benchmark_SA', 'Apartment_Benchmark_SA', 'V41690973',\n",
        "       'V41690914', 'STATIC_TOTALCPICHANGE', 'CPI_TRIM', 'CPI_MEDIAN',\n",
        "       'CPI_COMMON', 'ATOM_V41693242', 'STATIC_CPIXFET', 'CPIW', 'Open',\n",
        "       'High', 'Low', 'Close', 'Adj Close', 'Volume', 'Prime Rate',\n",
        "       'Bank of Canada Overnight Rate','Composite_HPI_SA']]\n",
        "\n",
        "n = len(df.index)\n",
        "predict_range = pd.date_range('2022-12-01', '2023-11-01', freq='MS')\n",
        "predict_range = pd.to_datetime(predict_range)\n",
        "\n",
        "# add predict date to df\n",
        "df1 = pd.concat((df, pd.DataFrame(index=predict_range)))\n",
        "\n",
        "n_train = 170\n",
        "n_test = n-n_train"
      ],
      "metadata": {
        "id": "5nYOjv1ExyJ5"
      },
      "execution_count": 23,
      "outputs": []
    },
    {
      "cell_type": "code",
      "source": [
        "summaries = {}\n",
        "for predColumn in tqdm.tqdm(['Composite_HPI_SA']):\n",
        "\n",
        "    # data\n",
        "    y = list(df1[predColumn])\n",
        "    # train test\n",
        "    train, test = y[:n_train], y[n_train:n]\n",
        "    # train\n",
        "\n",
        "    # adjust model\n",
        "    model = sm.tsa.statespace.SARIMAX(train, trend='c', order=(1, 1, 1))\n",
        "\n",
        "    res = model.fit(disp=False)\n",
        "    summaries[predColumn] = res.summary()\n",
        "    forecasts = res.predict(n_train, n + len(predict_range))\n",
        "    # predict test + predict range\n",
        "\n",
        "    # add forecasts to dataframe\n",
        "    for i, v in zip(df1.index[n_train:], forecasts):\n",
        "        df1.loc[i, f'predict_{predColumn}'] = v"
      ],
      "metadata": {
        "colab": {
          "base_uri": "https://localhost:8080/"
        },
        "id": "d9u05_Uwxz3v",
        "outputId": "80c3d0ea-b998-47f2-9842-96db547383eb"
      },
      "execution_count": 24,
      "outputs": [
        {
          "output_type": "stream",
          "name": "stderr",
          "text": [
            "100%|██████████| 1/1 [00:00<00:00, 10.81it/s]\n"
          ]
        }
      ]
    },
    {
      "cell_type": "code",
      "source": [
        "# change columns\n",
        "column = 'Composite_HPI_SA'\n",
        "pred_col = f'predict_{column}'\n",
        "\n",
        "mse_error = np.square(df1[column][n_train:n] -\n",
        "                      df1[pred_col][n_train:n]).mean()\n",
        "print('error', mse_error)\n",
        "\n",
        "df1[column].plot()\n",
        "df1[pred_col].plot()\n",
        "\n",
        "print(summaries[column])\n"
      ],
      "metadata": {
        "colab": {
          "base_uri": "https://localhost:8080/",
          "height": 748
        },
        "id": "QkQkUsYtx1dr",
        "outputId": "c965fe68-e4d5-48b1-cc01-c33028f4714a"
      },
      "execution_count": 25,
      "outputs": [
        {
          "output_type": "stream",
          "name": "stdout",
          "text": [
            "error 5407.120556171937\n",
            "                               SARIMAX Results                                \n",
            "==============================================================================\n",
            "Dep. Variable:                      y   No. Observations:                  170\n",
            "Model:               SARIMAX(1, 1, 1)   Log Likelihood                -133.650\n",
            "Date:                Tue, 20 Dec 2022   AIC                            275.300\n",
            "Time:                        18:09:43   BIC                            287.820\n",
            "Sample:                             0   HQIC                           280.381\n",
            "                                - 170                                         \n",
            "Covariance Type:                  opg                                         \n",
            "==============================================================================\n",
            "                 coef    std err          z      P>|z|      [0.025      0.975]\n",
            "------------------------------------------------------------------------------\n",
            "intercept      0.0958      0.075      1.285      0.199      -0.050       0.242\n",
            "ar.L1          0.8611      0.026     33.351      0.000       0.811       0.912\n",
            "ma.L1          0.3855      0.032     12.132      0.000       0.323       0.448\n",
            "sigma2         0.2812      0.015     18.153      0.000       0.251       0.312\n",
            "===================================================================================\n",
            "Ljung-Box (L1) (Q):                   2.24   Jarque-Bera (JB):               669.19\n",
            "Prob(Q):                              0.13   Prob(JB):                         0.00\n",
            "Heteroskedasticity (H):               5.61   Skew:                            -1.15\n",
            "Prob(H) (two-sided):                  0.00   Kurtosis:                        12.47\n",
            "===================================================================================\n",
            "\n",
            "Warnings:\n",
            "[1] Covariance matrix calculated using the outer product of gradients (complex-step).\n"
          ]
        },
        {
          "output_type": "display_data",
          "data": {
            "text/plain": [
              "<Figure size 432x288 with 1 Axes>"
            ],
            "image/png": "[encoded data removed]"
          },
          "metadata": {
            "needs_background": "light"
          }
        }
      ]
    },
    {
      "cell_type": "markdown",
      "source": [
        "**SARIMAX RESULT: MSE:5407.12 is not actually a good score, because it is beyond the range of values of Composite_HPI_SA**"
      ],
      "metadata": {
        "id": "tsjy3_quwQrs"
      }
    },
    {
      "cell_type": "markdown",
      "source": [
        "##ARIMA Preparation"
      ],
      "metadata": {
        "id": "e5tqjdXJJxrg"
      }
    },
    {
      "cell_type": "code",
      "source": [
        "import statsmodels.api as sm\n",
        "from sklearn.metrics import mean_absolute_error\n",
        "\n",
        "# Specify the target variable and the independent variables\n",
        "y = df[\"Composite_HPI_SA\"]\n",
        "X = df[['Single_Family_HPI_SA', 'One_Storey_HPI_SA',\n",
        "       'Two_Storey_HPI_SA', 'Townhouse_HPI_SA', 'Apartment_HPI_SA',\n",
        "       'Composite_Benchmark_SA', 'Single_Family_Benchmark_SA',\n",
        "       'One_Storey_Benchmark_SA', 'Two_Storey_Benchmark_SA',\n",
        "       'Townhouse_Benchmark_SA', 'Apartment_Benchmark_SA', 'V41690973',\n",
        "       'V41690914', 'STATIC_TOTALCPICHANGE', 'CPI_TRIM', 'CPI_MEDIAN',\n",
        "       'CPI_COMMON', 'ATOM_V41693242', 'STATIC_CPIXFET', 'CPIW', 'Open',\n",
        "       'High', 'Low', 'Close', 'Adj Close', 'Volume', 'Prime Rate',\n",
        "       'Bank of Canada Overnight Rate']]\n",
        "\n",
        "# Convert the data to a time series and specify the frequency\n",
        "ts_X = pd.DataFrame(X).set_index(pd.date_range(start='1/1/2000', periods=len(X), freq='M'))\n",
        "ts_y = pd.DataFrame(y).set_index(pd.date_range(start='1/1/2000', periods=len(y), freq='M'))\n",
        "\n",
        "# Split the data into training and test sets\n",
        "train_size = int(len(ts_X) * 0.8)\n",
        "X_train, X_test = ts_X[:train_size], ts_X[train_size:]\n",
        "y_train, y_test = ts_y[:train_size], ts_y[train_size:]\n",
        "\n",
        "# Fit the ARIMA model to the training data\n",
        "model = sm.tsa.ARIMA(y_train, exog=X_train, order=(1,1,1)).fit()\n",
        "\n",
        "# Make predictions on the test set\n",
        "predictions = model.predict(exog=X_test, start=len(y_train), end=len(y_train)+len(y_test)-1)"
      ],
      "metadata": {
        "colab": {
          "base_uri": "https://localhost:8080/"
        },
        "id": "-ZA8bG_ouSO0",
        "outputId": "f4cd95e1-7e6e-4cb1-b4d7-dcbd32f7914f"
      },
      "execution_count": 26,
      "outputs": [
        {
          "output_type": "stream",
          "name": "stderr",
          "text": [
            "/usr/local/lib/python3.8/dist-packages/statsmodels/tsa/arima_model.py:472: FutureWarning: \n",
            "statsmodels.tsa.arima_model.ARMA and statsmodels.tsa.arima_model.ARIMA have\n",
            "been deprecated in favor of statsmodels.tsa.arima.model.ARIMA (note the .\n",
            "between arima and model) and\n",
            "statsmodels.tsa.SARIMAX. These will be removed after the 0.12 release.\n",
            "\n",
            "statsmodels.tsa.arima.model.ARIMA makes use of the statespace framework and\n",
            "is both well tested and maintained.\n",
            "\n",
            "To silence this warning and continue using ARMA and ARIMA until they are\n",
            "removed, use:\n",
            "\n",
            "import warnings\n",
            "warnings.filterwarnings('ignore', 'statsmodels.tsa.arima_model.ARMA',\n",
            "                        FutureWarning)\n",
            "warnings.filterwarnings('ignore', 'statsmodels.tsa.arima_model.ARIMA',\n",
            "                        FutureWarning)\n",
            "\n",
            "  warnings.warn(ARIMA_DEPRECATION_WARN, FutureWarning)\n",
            "/usr/local/lib/python3.8/dist-packages/statsmodels/base/model.py:547: HessianInversionWarning: Inverting hessian failed, no bse or cov_params available\n",
            "  warnings.warn('Inverting hessian failed, no bse or cov_params '\n",
            "/usr/local/lib/python3.8/dist-packages/statsmodels/base/model.py:566: ConvergenceWarning: Maximum Likelihood optimization failed to converge. Check mle_retvals\n",
            "  warnings.warn(\"Maximum Likelihood optimization failed to \"\n"
          ]
        }
      ]
    },
    {
      "cell_type": "code",
      "source": [
        "# Evaluate the model\n",
        "print(model.summary())\n"
      ],
      "metadata": {
        "colab": {
          "base_uri": "https://localhost:8080/"
        },
        "id": "y-Kk1TC6u8jv",
        "outputId": "2d50f0b9-e97f-4f01-b01d-793af057fcf2"
      },
      "execution_count": 27,
      "outputs": [
        {
          "output_type": "stream",
          "name": "stdout",
          "text": [
            "                             ARIMA Model Results                              \n",
            "==============================================================================\n",
            "Dep. Variable:     D.Composite_HPI_SA   No. Observations:                  169\n",
            "Model:                 ARIMA(1, 1, 1)   Log Likelihood                -147.977\n",
            "Method:                       css-mle   S.D. of innovations              0.580\n",
            "Date:                Tue, 20 Dec 2022   AIC                            359.954\n",
            "Time:                        18:10:38   BIC                            460.110\n",
            "Sample:                    02-29-2000   HQIC                           400.599\n",
            "                         - 02-28-2014                                         \n",
            "=================================================================================================\n",
            "                                    coef    std err          z      P>|z|      [0.025      0.975]\n",
            "-------------------------------------------------------------------------------------------------\n",
            "const                            -1.6424      1.112     -1.477      0.140      -3.821       0.537\n",
            "Single_Family_HPI_SA              2.9704        nan        nan        nan         nan         nan\n",
            "One_Storey_HPI_SA                -0.3229        nan        nan        nan         nan         nan\n",
            "Two_Storey_HPI_SA                 2.1751        nan        nan        nan         nan         nan\n",
            "Townhouse_HPI_SA                  2.9388      0.061     48.001      0.000       2.819       3.059\n",
            "Apartment_HPI_SA                  3.8861      0.048     81.223      0.000       3.792       3.980\n",
            "Composite_Benchmark_SA           -0.0013   2.71e-06   -461.727      0.000      -0.001      -0.001\n",
            "Single_Family_Benchmark_SA       -0.0011   1.75e-06   -629.898      0.000      -0.001      -0.001\n",
            "One_Storey_Benchmark_SA           0.0006        nan        nan        nan         nan         nan\n",
            "Two_Storey_Benchmark_SA          -0.0004   9.34e-08  -3813.306      0.000      -0.000      -0.000\n",
            "Townhouse_Benchmark_SA           -0.0015        nan        nan        nan         nan         nan\n",
            "Apartment_Benchmark_SA           -0.0021        nan        nan        nan         nan         nan\n",
            "V41690973                        -0.2490      0.169     -1.475      0.140      -0.580       0.082\n",
            "V41690914                         0.0437      0.173      0.253      0.800      -0.295       0.383\n",
            "STATIC_TOTALCPICHANGE             0.4036      0.179      2.250      0.024       0.052       0.755\n",
            "CPI_TRIM                         -0.0074      0.640     -0.012      0.991      -1.261       1.246\n",
            "CPI_MEDIAN                       -2.5269      0.790     -3.197      0.001      -4.076      -0.978\n",
            "CPI_COMMON                        1.3674      0.428      3.193      0.001       0.528       2.207\n",
            "ATOM_V41693242                    0.9740      0.500      1.950      0.051      -0.005       1.953\n",
            "STATIC_CPIXFET                   -0.0181      0.382     -0.047      0.962      -0.767       0.731\n",
            "CPIW                             -0.3580      0.627     -0.571      0.568      -1.586       0.870\n",
            "Open                              0.0003      0.000      1.866      0.062   -1.66e-05       0.001\n",
            "High                          -7.749e-05      0.000     -0.285      0.776      -0.001       0.000\n",
            "Low                              -0.0003      0.000     -1.953      0.051      -0.001    1.11e-06\n",
            "Close                             0.0003    132.198   2.26e-06      1.000    -259.103     259.103\n",
            "Adj Close                         0.0003    132.198   2.26e-06      1.000    -259.103     259.103\n",
            "Volume                        -1.914e-10   5.26e-08     -0.004      0.997   -1.03e-07    1.03e-07\n",
            "Prime Rate                       11.2360      2.294      4.899      0.000       6.741      15.731\n",
            "Bank of Canada Overnight Rate   -10.9708      2.201     -4.984      0.000     -15.285      -6.656\n",
            "ar.L1.D.Composite_HPI_SA          0.5308      0.099      5.360      0.000       0.337       0.725\n",
            "ma.L1.D.Composite_HPI_SA          0.1335      0.099      1.353      0.176      -0.060       0.327\n",
            "                                    Roots                                    \n",
            "=============================================================================\n",
            "                  Real          Imaginary           Modulus         Frequency\n",
            "-----------------------------------------------------------------------------\n",
            "AR.1            1.8840           +0.0000j            1.8840            0.0000\n",
            "MA.1           -7.4914           +0.0000j            7.4914            0.5000\n",
            "-----------------------------------------------------------------------------\n"
          ]
        },
        {
          "output_type": "stream",
          "name": "stderr",
          "text": [
            "/usr/local/lib/python3.8/dist-packages/statsmodels/tsa/arima_model.py:1521: RuntimeWarning: invalid value encountered in sqrt\n",
            "  return np.sqrt(np.diag(-inv(hess)))\n"
          ]
        }
      ]
    },
    {
      "cell_type": "markdown",
      "source": [
        "Split 80% of the data set contained in series into a set called train. The remaining 20% will be contained in a set called test."
      ],
      "metadata": {
        "id": "12EDWG13HiUi"
      }
    },
    {
      "cell_type": "code",
      "source": [
        "print(mean_absolute_error(y_test, predictions))"
      ],
      "metadata": {
        "colab": {
          "base_uri": "https://localhost:8080/"
        },
        "id": "bG3OqAn1vORn",
        "outputId": "bac30801-e492-4846-a3fe-46d6d3304e42"
      },
      "execution_count": 28,
      "outputs": [
        {
          "output_type": "stream",
          "name": "stdout",
          "text": [
            "292.8844051502846\n"
          ]
        }
      ]
    },
    {
      "cell_type": "markdown",
      "source": [
        "ARIMA RESULT: MSE:292.88 is not actually a good score, because it is very close to the maximum value of Composite_HPI_SA"
      ],
      "metadata": {
        "id": "imUXxeuewqSl"
      }
    },
    {
      "cell_type": "code",
      "source": [
        "# split into 80% train and 20% test sets\n",
        "\n",
        "# make a copy of the series called X\n",
        "X = df[\"Composite_HPI_SA\"]\n",
        "\n",
        "# specify that 80% of the data is for training\n",
        "size = int(len(X) * 0.80)\n",
        "\n",
        "# take a look at this line of code\n",
        "# 80% is for training,\n",
        "# so the remainder, size:len(X), is for testing\n",
        "train, test = X[0:size], X[size:len(X)]"
      ],
      "metadata": {
        "id": "tBjnZsmi6tRn"
      },
      "execution_count": 29,
      "outputs": []
    },
    {
      "cell_type": "code",
      "source": [
        "plt.rcParams[\"figure.figsize\"] = (16, 10)\n",
        "\n",
        "X.plot()\n",
        "plt.title(\"Home_Prices\")\n",
        "plt.xlabel(\"Date\")\n",
        "plt.ylabel(\"Composite_HPI_SA\")\n",
        "plt.show()"
      ],
      "metadata": {
        "colab": {
          "base_uri": "https://localhost:8080/",
          "height": 710
        },
        "id": "LOa664zW69NS",
        "outputId": "cf37ede8-5b00-4142-e525-7de7caa4c015"
      },
      "execution_count": 30,
      "outputs": [
        {
          "output_type": "display_data",
          "data": {
            "text/plain": [
              "<Figure size 1152x720 with 1 Axes>"
            ],
            "image/png": "[encoded data removed]"
          },
          "metadata": {
            "needs_background": "light"
          }
        }
      ]
    },
    {
      "cell_type": "code",
      "source": [
        "plt.rcParams[\"figure.figsize\"] = (16, 10)\n",
        "\n",
        "train.plot()\n",
        "plt.title(\"Home_Prices\")\n",
        "plt.xlabel(\"Date\")\n",
        "plt.ylabel(\"Composite_HPI_SA\")\n",
        "plt.show()"
      ],
      "metadata": {
        "colab": {
          "base_uri": "https://localhost:8080/",
          "height": 710
        },
        "id": "-G95V_5r7CQM",
        "outputId": "abc8edf3-4e6b-4dc8-8640-a3e6a7527333"
      },
      "execution_count": 32,
      "outputs": [
        {
          "output_type": "display_data",
          "data": {
            "text/plain": [
              "<Figure size 1152x720 with 1 Axes>"
            ],
            "image/png": "[encoded data removed]"
          },
          "metadata": {
            "needs_background": "light"
          }
        }
      ]
    },
    {
      "cell_type": "markdown",
      "source": [
        "Call the plot_acf method, sending train and lags=105."
      ],
      "metadata": {
        "id": "qr0vpy4WH1k0"
      }
    },
    {
      "cell_type": "code",
      "source": [
        "plot_acf(train, lags=105);"
      ],
      "metadata": {
        "colab": {
          "base_uri": "https://localhost:8080/",
          "height": 710
        },
        "id": "ywcH0zwU7Cvt",
        "outputId": "4bc1514b-a586-49cc-e49c-6c307aee893e"
      },
      "execution_count": 33,
      "outputs": [
        {
          "output_type": "display_data",
          "data": {
            "text/plain": [
              "<Figure size 1152x720 with 1 Axes>"
            ],
            "image/png": "[encoded data removed]"
          },
          "metadata": {
            "needs_background": "light"
          }
        }
      ]
    },
    {
      "cell_type": "markdown",
      "source": [
        "Create another series called fd_series that is the first difference of train.\n",
        "\n",
        "Use train to call the diff method with a parameter of 1 followed by a call to dropna so that rows with \"NaN\" values are dropped."
      ],
      "metadata": {
        "id": "Vbsib0bdIA79"
      }
    },
    {
      "cell_type": "code",
      "source": [
        "fd_s = train.diff(1).dropna()\n",
        "\n",
        "fd_s"
      ],
      "metadata": {
        "colab": {
          "base_uri": "https://localhost:8080/"
        },
        "id": "09ZT2NB57FZi",
        "outputId": "7443d68a-7ed8-48cc-ef2f-d87f51769f3d"
      },
      "execution_count": 34,
      "outputs": [
        {
          "output_type": "execute_result",
          "data": {
            "text/plain": [
              "Date\n",
              "2005-01-02    0.6\n",
              "2005-01-03    0.8\n",
              "2005-01-04    0.8\n",
              "2005-01-05    0.6\n",
              "2005-01-06    1.1\n",
              "             ... \n",
              "2018-01-10   -0.2\n",
              "2018-01-11   -1.4\n",
              "2018-01-12   -1.5\n",
              "2019-01-01   -2.7\n",
              "2019-01-02   -3.0\n",
              "Name: Composite_HPI_SA, Length: 169, dtype: float64"
            ]
          },
          "metadata": {},
          "execution_count": 34
        }
      ]
    },
    {
      "cell_type": "markdown",
      "source": [
        "Plot train and fd_series on a graph.\n",
        "\n",
        "The graph should include a legend (meaning each line should be different colours), a meaningful title, a labelled X-axis, and a labelled Y-axis."
      ],
      "metadata": {
        "id": "LsuBTkmdIFUZ"
      }
    },
    {
      "cell_type": "code",
      "source": [
        "# set the size of the plot\n",
        "fig, ax = plt.subplots(figsize=(16,10))\n",
        "\n",
        "# specify what you are plotting\n",
        "# notice that we have two plots, one for each DataFrame\n",
        "# also notice that each plot gets labelled (this is important for the legend)\n",
        "ax.plot(train, label=\"train vales\", linestyle=\"-\")\n",
        "ax.plot(fd_s, label=\"first diff of train values\", linestyle=\":\")\n",
        "\n",
        "ax.set(xlabel=\"Date\", ylabel=\"Composite_HPI_SA\",\n",
        "       title=\"Home_Prices\")\n",
        "\n",
        "# format the x axis\n",
        "\n",
        "# these two lines of code ensure that the dates do not overlap with each other\n",
        "ax.xaxis.set_major_locator(mdates.WeekdayLocator(interval=20))\n",
        "ax.xaxis.set_major_formatter(DateFormatter(\"%m-%d\"))\n",
        "\n",
        "# indicate that you want a legend\n",
        "plt.legend()\n",
        "\n",
        "# this line of code will show the plot in the output\n",
        "plt.show()"
      ],
      "metadata": {
        "colab": {
          "base_uri": "https://localhost:8080/",
          "height": 710
        },
        "id": "tJrdaD1J7H6n",
        "outputId": "d9b941d4-4894-49f6-e4ec-80a351dcbf6b"
      },
      "execution_count": 35,
      "outputs": [
        {
          "output_type": "display_data",
          "data": {
            "text/plain": [
              "<Figure size 1152x720 with 1 Axes>"
            ],
            "image/png": "[encoded data removed]"
          },
          "metadata": {
            "needs_background": "light"
          }
        }
      ]
    },
    {
      "cell_type": "markdown",
      "source": [
        "You will notice that fd_series has several negative values due to the differencing.\n",
        "\n",
        "In a later step, we will use an ARIMA model with the parameters  p=1  and  q=1 .\n",
        "\n",
        "First, we will verify why we want to use  p=1 .\n",
        "\n",
        "Call the plot_acf method, sending fd_series and lags=105."
      ],
      "metadata": {
        "id": "kmU6sd2bIV33"
      }
    },
    {
      "cell_type": "code",
      "source": [
        "plot_acf(fd_s, lags=105);"
      ],
      "metadata": {
        "colab": {
          "base_uri": "https://localhost:8080/",
          "height": 710
        },
        "id": "VqifDzpj9NZn",
        "outputId": "c6ff210c-f588-4771-8fa7-2235bdf6930b"
      },
      "execution_count": 36,
      "outputs": [
        {
          "output_type": "display_data",
          "data": {
            "text/plain": [
              "<Figure size 1152x720 with 1 Axes>"
            ],
            "image/png": "[encoded data removed]"
          },
          "metadata": {
            "needs_background": "light"
          }
        }
      ]
    },
    {
      "cell_type": "markdown",
      "source": [
        "After plotting the autocorrelation function, we always skip the first lag and then we should see that there is one significant lag that follows.\n",
        "\n",
        "Thus, we will be using p=1 in a later step.\n",
        "\n",
        "Now we will verify why we want to use these  q=1 .\n",
        "\n",
        "Call the plot_pacf method, sending fd_series."
      ],
      "metadata": {
        "id": "oD92gmAvIlIC"
      }
    },
    {
      "cell_type": "code",
      "source": [
        "plot_pacf(fd_s);\n"
      ],
      "metadata": {
        "colab": {
          "base_uri": "https://localhost:8080/",
          "height": 710
        },
        "id": "E76kN1gT9SqA",
        "outputId": "660fca2f-59c9-4a9f-e364-7fc1a350e7e9"
      },
      "execution_count": 37,
      "outputs": [
        {
          "output_type": "display_data",
          "data": {
            "text/plain": [
              "<Figure size 1152x720 with 1 Axes>"
            ],
            "image/png": "[encoded data removed]"
          },
          "metadata": {
            "needs_background": "light"
          }
        }
      ]
    },
    {
      "cell_type": "markdown",
      "source": [
        "Again, skip the very first lag and then we find that there is one significant lag that follows.\n",
        "\n",
        "Thus, we will be using q=1 in a later step.\n",
        "\n",
        "Create an ARIMA model using the train set and order( 1,1,1 ). This means that  p=1 ,  d=1 , and  q=1 .\n",
        "\n",
        "Then fit the model and output the summary by calling the summary() method."
      ],
      "metadata": {
        "id": "UfFW6hMZIpp6"
      }
    },
    {
      "cell_type": "code",
      "source": [
        "model = ARIMA(train, order=(1, 1, 1))\n",
        "model_fit = model.fit()\n",
        "model_fit.summary()"
      ],
      "metadata": {
        "colab": {
          "base_uri": "https://localhost:8080/",
          "height": 547
        },
        "id": "gttomwIB9TQw",
        "outputId": "c2c4ea77-a397-4ed3-ddfc-a775eb64006a"
      },
      "execution_count": 38,
      "outputs": [
        {
          "output_type": "stream",
          "name": "stderr",
          "text": [
            "/usr/local/lib/python3.8/dist-packages/statsmodels/tsa/base/tsa_model.py:581: ValueWarning: A date index has been provided, but it has no associated frequency information and so will be ignored when e.g. forecasting.\n",
            "  warnings.warn('A date index has been provided, but it has no'\n",
            "/usr/local/lib/python3.8/dist-packages/statsmodels/tsa/base/tsa_model.py:581: ValueWarning: A date index has been provided, but it has no associated frequency information and so will be ignored when e.g. forecasting.\n",
            "  warnings.warn('A date index has been provided, but it has no'\n",
            "/usr/local/lib/python3.8/dist-packages/statsmodels/tsa/base/tsa_model.py:581: ValueWarning: A date index has been provided, but it has no associated frequency information and so will be ignored when e.g. forecasting.\n",
            "  warnings.warn('A date index has been provided, but it has no'\n"
          ]
        },
        {
          "output_type": "execute_result",
          "data": {
            "text/plain": [
              "<class 'statsmodels.iolib.summary.Summary'>\n",
              "\"\"\"\n",
              "                               SARIMAX Results                                \n",
              "==============================================================================\n",
              "Dep. Variable:       Composite_HPI_SA   No. Observations:                  170\n",
              "Model:                 ARIMA(1, 1, 1)   Log Likelihood                -134.765\n",
              "Date:                Tue, 20 Dec 2022   AIC                            275.531\n",
              "Time:                        18:12:47   BIC                            284.920\n",
              "Sample:                             0   HQIC                           279.341\n",
              "                                - 170                                         \n",
              "Covariance Type:                  opg                                         \n",
              "==============================================================================\n",
              "                 coef    std err          z      P>|z|      [0.025      0.975]\n",
              "------------------------------------------------------------------------------\n",
              "ar.L1          0.8939      0.021     41.938      0.000       0.852       0.936\n",
              "ma.L1          0.3760      0.030     12.339      0.000       0.316       0.436\n",
              "sigma2         0.2845      0.016     17.843      0.000       0.253       0.316\n",
              "===================================================================================\n",
              "Ljung-Box (L1) (Q):                   1.73   Jarque-Bera (JB):               820.62\n",
              "Prob(Q):                              0.19   Prob(JB):                         0.00\n",
              "Heteroskedasticity (H):               5.47   Skew:                            -1.33\n",
              "Prob(H) (two-sided):                  0.00   Kurtosis:                        13.46\n",
              "===================================================================================\n",
              "\n",
              "Warnings:\n",
              "[1] Covariance matrix calculated using the outer product of gradients (complex-step).\n",
              "\"\"\""
            ],
            "text/html": [
              "<table class=\"simpletable\">\n",
              "<caption>SARIMAX Results</caption>\n",
              "<tr>\n",
              "  <th>Dep. Variable:</th>   <td>Composite_HPI_SA</td> <th>  No. Observations:  </th>    <td>170</td>  \n",
              "</tr>\n",
              "<tr>\n",
              "  <th>Model:</th>            <td>ARIMA(1, 1, 1)</td>  <th>  Log Likelihood     </th> <td>-134.765</td>\n",
              "</tr>\n",
              "<tr>\n",
              "  <th>Date:</th>            <td>Tue, 20 Dec 2022</td> <th>  AIC                </th>  <td>275.531</td>\n",
              "</tr>\n",
              "<tr>\n",
              "  <th>Time:</th>                <td>18:12:47</td>     <th>  BIC                </th>  <td>284.920</td>\n",
              "</tr>\n",
              "<tr>\n",
              "  <th>Sample:</th>                  <td>0</td>        <th>  HQIC               </th>  <td>279.341</td>\n",
              "</tr>\n",
              "<tr>\n",
              "  <th></th>                      <td> - 170</td>      <th>                     </th>     <td> </td>   \n",
              "</tr>\n",
              "<tr>\n",
              "  <th>Covariance Type:</th>        <td>opg</td>       <th>                     </th>     <td> </td>   \n",
              "</tr>\n",
              "</table>\n",
              "<table class=\"simpletable\">\n",
              "<tr>\n",
              "     <td></td>       <th>coef</th>     <th>std err</th>      <th>z</th>      <th>P>|z|</th>  <th>[0.025</th>    <th>0.975]</th>  \n",
              "</tr>\n",
              "<tr>\n",
              "  <th>ar.L1</th>  <td>    0.8939</td> <td>    0.021</td> <td>   41.938</td> <td> 0.000</td> <td>    0.852</td> <td>    0.936</td>\n",
              "</tr>\n",
              "<tr>\n",
              "  <th>ma.L1</th>  <td>    0.3760</td> <td>    0.030</td> <td>   12.339</td> <td> 0.000</td> <td>    0.316</td> <td>    0.436</td>\n",
              "</tr>\n",
              "<tr>\n",
              "  <th>sigma2</th> <td>    0.2845</td> <td>    0.016</td> <td>   17.843</td> <td> 0.000</td> <td>    0.253</td> <td>    0.316</td>\n",
              "</tr>\n",
              "</table>\n",
              "<table class=\"simpletable\">\n",
              "<tr>\n",
              "  <th>Ljung-Box (L1) (Q):</th>     <td>1.73</td> <th>  Jarque-Bera (JB):  </th> <td>820.62</td>\n",
              "</tr>\n",
              "<tr>\n",
              "  <th>Prob(Q):</th>                <td>0.19</td> <th>  Prob(JB):          </th>  <td>0.00</td> \n",
              "</tr>\n",
              "<tr>\n",
              "  <th>Heteroskedasticity (H):</th> <td>5.47</td> <th>  Skew:              </th>  <td>-1.33</td>\n",
              "</tr>\n",
              "<tr>\n",
              "  <th>Prob(H) (two-sided):</th>    <td>0.00</td> <th>  Kurtosis:          </th>  <td>13.46</td>\n",
              "</tr>\n",
              "</table><br/><br/>Warnings:<br/>[1] Covariance matrix calculated using the outer product of gradients (complex-step)."
            ]
          },
          "metadata": {},
          "execution_count": 38
        }
      ]
    },
    {
      "cell_type": "markdown",
      "source": [
        "##Rolling Forecast ARIMA Model"
      ],
      "metadata": {
        "id": "UdUCDwP5J9ao"
      }
    },
    {
      "cell_type": "markdown",
      "source": [
        "Perform a data type conversion on the train and test sets so that they are numpy.ndarrays. We need to use the correct data type for the following steps."
      ],
      "metadata": {
        "id": "kA6D1uJoIzpB"
      }
    },
    {
      "cell_type": "code",
      "source": [
        "#data type conversion on the train and test sets so that they are numpy.ndarrays\n",
        "train = train.values\n",
        "test = test.values\n"
      ],
      "metadata": {
        "id": "ltoSYFnB9WbK"
      },
      "execution_count": 39,
      "outputs": []
    },
    {
      "cell_type": "markdown",
      "source": [
        "Create a numpy.ndarray called history that stores every value from train. Then create an empty list called predictions."
      ],
      "metadata": {
        "id": "AkdSoXX-I2-0"
      }
    },
    {
      "cell_type": "code",
      "source": [
        "history = [x for x in train]\n",
        "predictions = list()"
      ],
      "metadata": {
        "id": "gmZbi0ye9ZHK"
      },
      "execution_count": 40,
      "outputs": []
    },
    {
      "cell_type": "markdown",
      "source": [
        "Your task in this step is to perform walk-forward validation of an ARIMA model.\n",
        "\n",
        "Please note that this process is computationally expensive (it will take almost a minute to complete). You can ignore any ConvergenceWarnings that might appear in the output during this step.\n",
        "\n",
        "You will write a loop structure that iterates over every item in test. The loop must do the following:\n",
        "\n",
        "Create an ARIMA model using the history set and order( 1,1,1 )\n",
        "Create an object named model_fit that stores the fitted ARIMA model\n",
        "Create an object named output that stores model_fit's forecast\n",
        "Create a variable named pred that stores the first element of output\n",
        "Append pred to predictions\n",
        "Create a variable named obs that stores the current item of the test set\n",
        "Append obs to history\n",
        "Output (print) pred and obs each rounded to two decimal places"
      ],
      "metadata": {
        "id": "FOt6JxQII7nX"
      }
    },
    {
      "cell_type": "code",
      "source": [
        "for t in range(len(test)):\n",
        "\tmodel = ARIMA(history, order=(1,1,1))\n",
        "\tmodel_fit = model.fit()\n",
        "\toutput = model_fit.forecast()\n",
        "\tpred = output[0]\n",
        "\tpredictions.append(pred)\n",
        "\tobs = test[t]\n",
        "\thistory.append(obs)\n",
        "\tprint('predicted=%.2f, expected=%.2f' % (pred, obs))"
      ],
      "metadata": {
        "colab": {
          "base_uri": "https://localhost:8080/"
        },
        "id": "GlR5fA7K9bjz",
        "outputId": "ee5af747-db47-4af5-8c1a-31c011705aaa"
      },
      "execution_count": 41,
      "outputs": [
        {
          "output_type": "stream",
          "name": "stdout",
          "text": [
            "predicted=238.10, expected=238.90\n",
            "predicted=237.52, expected=238.90\n",
            "predicted=239.44, expected=239.40\n",
            "predicted=239.82, expected=240.60\n",
            "predicted=241.96, expected=242.00\n",
            "predicted=243.25, expected=243.30\n",
            "predicted=244.46, expected=244.90\n",
            "predicted=246.48, expected=246.30\n",
            "predicted=247.46, expected=247.30\n",
            "predicted=248.12, expected=247.90\n",
            "predicted=248.34, expected=248.40\n",
            "predicted=248.86, expected=249.20\n",
            "predicted=250.04, expected=249.00\n",
            "predicted=248.42, expected=246.00\n",
            "predicted=242.37, expected=248.10\n",
            "predicted=251.50, expected=252.40\n",
            "predicted=256.18, expected=259.10\n",
            "predicted=265.78, expected=265.40\n",
            "predicted=270.78, expected=269.80\n",
            "predicted=273.28, expected=272.80\n",
            "predicted=275.20, expected=275.90\n",
            "predicted=278.76, expected=279.10\n",
            "predicted=281.94, expected=284.30\n",
            "predicted=289.55, expected=291.00\n",
            "predicted=297.37, expected=298.30\n",
            "predicted=305.12, expected=304.50\n",
            "predicted=309.82, expected=310.40\n",
            "predicted=315.85, expected=316.40\n",
            "predicted=321.97, expected=320.90\n",
            "predicted=324.58, expected=326.20\n",
            "predicted=331.45, expected=333.40\n",
            "predicted=340.57, expected=342.90\n",
            "predicted=352.49, expected=351.00\n",
            "predicted=358.01, expected=357.40\n",
            "predicted=363.06, expected=370.70\n",
            "predicted=385.63, expected=380.00\n",
            "predicted=388.36, expected=379.40\n",
            "predicted=376.27, expected=374.20\n",
            "predicted=369.04, expected=370.30\n",
            "predicted=367.78, expected=363.30\n",
            "predicted=355.63, expected=356.80\n",
            "predicted=351.98, expected=350.80\n",
            "predicted=345.42, expected=345.70\n"
          ]
        }
      ]
    },
    {
      "cell_type": "markdown",
      "source": [
        "Recall the formula for Root Mean Square Error (RMSE):\n",
        "\n",
        "RMSE=1N∑Ni=1(xi−x′i)2−−−−−−−−−−−−−−√ \n",
        "\n",
        "Compute and output (print) the Root Mean Square Error (RMSE) using the test and predictions sets.\n",
        "\n",
        "Round to two decimal places."
      ],
      "metadata": {
        "id": "OF9igwPII-07"
      }
    },
    {
      "cell_type": "code",
      "source": [
        "rmse = sqrt(mean_squared_error(test, predictions))\n",
        "print(rmse)\n",
        "print('Test RMSE: %.2f' % rmse)\n"
      ],
      "metadata": {
        "colab": {
          "base_uri": "https://localhost:8080/"
        },
        "id": "fwPK9JQ09fyZ",
        "outputId": "a1c4fb1d-7c9c-48da-db3e-b15798922b96"
      },
      "execution_count": 42,
      "outputs": [
        {
          "output_type": "stream",
          "name": "stdout",
          "text": [
            "2.5462936677778094\n",
            "Test RMSE: 2.55\n"
          ]
        }
      ]
    },
    {
      "cell_type": "markdown",
      "source": [
        "Recall the formula for Normalized RMSE:\n",
        "\n",
        "NormalizedRMSE=RMSE(MaximumValue−MinimumValue) \n",
        "\n",
        "Compute and output (print) the Normalized RMSE.\n",
        "\n",
        "In this case, let Maximum Value be test.max() and the Minimum Value be test.min().\n",
        "\n",
        "Round to two decimal places."
      ],
      "metadata": {
        "id": "0qu2mZ2aJCEE"
      }
    },
    {
      "cell_type": "code",
      "source": [
        "max = test.max()\n",
        "min = test.min()\n",
        "\n",
        "nrmse = rmse / (max - min)\n",
        "print(nrmse)\n",
        "print('Test NRMSE: %.2f' % nrmse)\n"
      ],
      "metadata": {
        "colab": {
          "base_uri": "https://localhost:8080/"
        },
        "id": "AePt2GXc9gdc",
        "outputId": "91bad31c-f618-4bdb-ae4d-b99b5f1d68d2"
      },
      "execution_count": 43,
      "outputs": [
        {
          "output_type": "stream",
          "name": "stdout",
          "text": [
            "0.018046021741869662\n",
            "Test NRMSE: 0.02\n"
          ]
        }
      ]
    },
    {
      "cell_type": "markdown",
      "source": [
        "Plot test and predictions on a graph.\n",
        "\n",
        "The graph should include a legend (meaning each line should be different colours), a meaningful title, a labelled X-axis, and a labelled Y-axis."
      ],
      "metadata": {
        "id": "WAnHO5VUJHeV"
      }
    },
    {
      "cell_type": "code",
      "source": [
        "plt.plot(test, label=\"Composite_HPI_SA_actual\")\n",
        "plt.plot(predictions, color='red', label=\"predictions\")\n",
        "plt.legend()\n",
        "plt.show()\n"
      ],
      "metadata": {
        "colab": {
          "base_uri": "https://localhost:8080/",
          "height": 710
        },
        "id": "u6Z_F0I79is6",
        "outputId": "bcb7fc99-eaf2-48f2-d5f0-3dd33da55ea8"
      },
      "execution_count": 45,
      "outputs": [
        {
          "output_type": "display_data",
          "data": {
            "text/plain": [
              "<Figure size 1152x720 with 1 Axes>"
            ],
            "image/png": "[encoded data removed]"
          },
          "metadata": {
            "needs_background": "light"
          }
        }
      ]
    },
    {
      "cell_type": "markdown",
      "source": [
        "##ARIMA Forecast "
      ],
      "metadata": {
        "id": "joDmbUBmKGCq"
      }
    },
    {
      "cell_type": "markdown",
      "source": [
        "An ARIMA model with slightly different parameters is created from before and then plot a forecast.\n",
        "\n",
        "Create an object named model that stores an ARIMA model. The ARIMA model will take the following parameters: the full data set called series and order(2,1,2).\n",
        "\n",
        "This step is for fun, which is why we use the full data set and skip the analysis process of our ARIMA model with such parameters."
      ],
      "metadata": {
        "id": "3jdujt4_JNnV"
      }
    },
    {
      "cell_type": "code",
      "source": [
        "model = ARIMA(X, order=(2,1,2))\n"
      ],
      "metadata": {
        "colab": {
          "base_uri": "https://localhost:8080/"
        },
        "id": "F_Ap2HFh9kzW",
        "outputId": "ba7e38c2-a8b0-4b81-ff82-05a4b0568d64"
      },
      "execution_count": 46,
      "outputs": [
        {
          "output_type": "stream",
          "name": "stderr",
          "text": [
            "/usr/local/lib/python3.8/dist-packages/statsmodels/tsa/base/tsa_model.py:581: ValueWarning: A date index has been provided, but it has no associated frequency information and so will be ignored when e.g. forecasting.\n",
            "  warnings.warn('A date index has been provided, but it has no'\n",
            "/usr/local/lib/python3.8/dist-packages/statsmodels/tsa/base/tsa_model.py:581: ValueWarning: A date index has been provided, but it has no associated frequency information and so will be ignored when e.g. forecasting.\n",
            "  warnings.warn('A date index has been provided, but it has no'\n",
            "/usr/local/lib/python3.8/dist-packages/statsmodels/tsa/base/tsa_model.py:581: ValueWarning: A date index has been provided, but it has no associated frequency information and so will be ignored when e.g. forecasting.\n",
            "  warnings.warn('A date index has been provided, but it has no'\n"
          ]
        }
      ]
    },
    {
      "cell_type": "markdown",
      "source": [
        "Create an object named model_fit that stores the fitted model."
      ],
      "metadata": {
        "id": "8t9aoAAXJUhZ"
      }
    },
    {
      "cell_type": "code",
      "source": [
        "model_fit = model.fit()\n"
      ],
      "metadata": {
        "id": "hW_oHRgC9nOO",
        "colab": {
          "base_uri": "https://localhost:8080/"
        },
        "outputId": "fcd54792-6846-4166-b765-a96b57ca7bcf"
      },
      "execution_count": 47,
      "outputs": [
        {
          "output_type": "stream",
          "name": "stderr",
          "text": [
            "/usr/local/lib/python3.8/dist-packages/statsmodels/tsa/statespace/sarimax.py:978: UserWarning: Non-invertible starting MA parameters found. Using zeros as starting parameters.\n",
            "  warn('Non-invertible starting MA parameters found.'\n"
          ]
        }
      ]
    },
    {
      "cell_type": "markdown",
      "source": [
        "Create an object named model_fit that stores the fitted model."
      ],
      "metadata": {
        "id": "QI6WyFeWJX6D"
      }
    },
    {
      "cell_type": "code",
      "source": [
        "forecast = model_fit.forecast(steps=52)\n"
      ],
      "metadata": {
        "id": "K2dH5o3Q9pfg",
        "colab": {
          "base_uri": "https://localhost:8080/"
        },
        "outputId": "76359b2f-56fd-4e61-ba02-842da0dd9179"
      },
      "execution_count": 48,
      "outputs": [
        {
          "output_type": "stream",
          "name": "stderr",
          "text": [
            "/usr/local/lib/python3.8/dist-packages/statsmodels/tsa/base/tsa_model.py:376: ValueWarning: No supported index is available. Prediction results will be given with an integer index beginning at `start`.\n",
            "  warnings.warn('No supported index is available.'\n"
          ]
        }
      ]
    },
    {
      "cell_type": "code",
      "source": [
        "print(forecast)"
      ],
      "metadata": {
        "colab": {
          "base_uri": "https://localhost:8080/"
        },
        "id": "DhHKHB4y9sk8",
        "outputId": "b440ee18-62e5-4c50-8d77-17d7b91a2e92"
      },
      "execution_count": 49,
      "outputs": [
        {
          "output_type": "stream",
          "name": "stdout",
          "text": [
            "213    341.152573\n",
            "214    337.783675\n",
            "215    334.868136\n",
            "216    332.718058\n",
            "217    330.848557\n",
            "218    329.476553\n",
            "219    328.277635\n",
            "220    327.402274\n",
            "221    326.633298\n",
            "222    326.074899\n",
            "223    325.581612\n",
            "224    325.225470\n",
            "225    324.908985\n",
            "226    324.681884\n",
            "227    324.478800\n",
            "228    324.334015\n",
            "229    324.203677\n",
            "230    324.111391\n",
            "231    324.027726\n",
            "232    323.968917\n",
            "233    323.915201\n",
            "234    323.877735\n",
            "235    323.843241\n",
            "236    323.819378\n",
            "237    323.797222\n",
            "238    323.782028\n",
            "239    323.767795\n",
            "240    323.758123\n",
            "241    323.748977\n",
            "242    323.742822\n",
            "243    323.736944\n",
            "244    323.733029\n",
            "245    323.729250\n",
            "246    323.726760\n",
            "247    323.724330\n",
            "248    323.722748\n",
            "249    323.721185\n",
            "250    323.720179\n",
            "251    323.719173\n",
            "252    323.718535\n",
            "253    323.717888\n",
            "254    323.717482\n",
            "255    323.717066\n",
            "256    323.716809\n",
            "257    323.716540\n",
            "258    323.716377\n",
            "259    323.716204\n",
            "260    323.716101\n",
            "261    323.715989\n",
            "262    323.715924\n",
            "263    323.715852\n",
            "264    323.715811\n",
            "Name: predicted_mean, dtype: float64\n"
          ]
        }
      ]
    }
  ]
}